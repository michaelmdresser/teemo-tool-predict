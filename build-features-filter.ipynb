{
 "cells": [
  {
   "cell_type": "code",
   "execution_count": 1,
   "metadata": {},
   "outputs": [
    {
     "name": "stderr",
     "output_type": "stream",
     "text": [
      "C:\\Users\\delta\\anaconda3\\envs\\py3_7_tf\\lib\\site-packages\\tensorflow\\python\\framework\\dtypes.py:516: FutureWarning: Passing (type, 1) or '1type' as a synonym of type is deprecated; in a future version of numpy, it will be understood as (type, (1,)) / '(1,)type'.\n",
      "  _np_qint8 = np.dtype([(\"qint8\", np.int8, 1)])\n",
      "C:\\Users\\delta\\anaconda3\\envs\\py3_7_tf\\lib\\site-packages\\tensorflow\\python\\framework\\dtypes.py:517: FutureWarning: Passing (type, 1) or '1type' as a synonym of type is deprecated; in a future version of numpy, it will be understood as (type, (1,)) / '(1,)type'.\n",
      "  _np_quint8 = np.dtype([(\"quint8\", np.uint8, 1)])\n",
      "C:\\Users\\delta\\anaconda3\\envs\\py3_7_tf\\lib\\site-packages\\tensorflow\\python\\framework\\dtypes.py:518: FutureWarning: Passing (type, 1) or '1type' as a synonym of type is deprecated; in a future version of numpy, it will be understood as (type, (1,)) / '(1,)type'.\n",
      "  _np_qint16 = np.dtype([(\"qint16\", np.int16, 1)])\n",
      "C:\\Users\\delta\\anaconda3\\envs\\py3_7_tf\\lib\\site-packages\\tensorflow\\python\\framework\\dtypes.py:519: FutureWarning: Passing (type, 1) or '1type' as a synonym of type is deprecated; in a future version of numpy, it will be understood as (type, (1,)) / '(1,)type'.\n",
      "  _np_quint16 = np.dtype([(\"quint16\", np.uint16, 1)])\n",
      "C:\\Users\\delta\\anaconda3\\envs\\py3_7_tf\\lib\\site-packages\\tensorflow\\python\\framework\\dtypes.py:520: FutureWarning: Passing (type, 1) or '1type' as a synonym of type is deprecated; in a future version of numpy, it will be understood as (type, (1,)) / '(1,)type'.\n",
      "  _np_qint32 = np.dtype([(\"qint32\", np.int32, 1)])\n",
      "C:\\Users\\delta\\anaconda3\\envs\\py3_7_tf\\lib\\site-packages\\tensorflow\\python\\framework\\dtypes.py:525: FutureWarning: Passing (type, 1) or '1type' as a synonym of type is deprecated; in a future version of numpy, it will be understood as (type, (1,)) / '(1,)type'.\n",
      "  np_resource = np.dtype([(\"resource\", np.ubyte, 1)])\n",
      "C:\\Users\\delta\\anaconda3\\envs\\py3_7_tf\\lib\\site-packages\\tensorboard\\compat\\tensorflow_stub\\dtypes.py:541: FutureWarning: Passing (type, 1) or '1type' as a synonym of type is deprecated; in a future version of numpy, it will be understood as (type, (1,)) / '(1,)type'.\n",
      "  _np_qint8 = np.dtype([(\"qint8\", np.int8, 1)])\n",
      "C:\\Users\\delta\\anaconda3\\envs\\py3_7_tf\\lib\\site-packages\\tensorboard\\compat\\tensorflow_stub\\dtypes.py:542: FutureWarning: Passing (type, 1) or '1type' as a synonym of type is deprecated; in a future version of numpy, it will be understood as (type, (1,)) / '(1,)type'.\n",
      "  _np_quint8 = np.dtype([(\"quint8\", np.uint8, 1)])\n",
      "C:\\Users\\delta\\anaconda3\\envs\\py3_7_tf\\lib\\site-packages\\tensorboard\\compat\\tensorflow_stub\\dtypes.py:543: FutureWarning: Passing (type, 1) or '1type' as a synonym of type is deprecated; in a future version of numpy, it will be understood as (type, (1,)) / '(1,)type'.\n",
      "  _np_qint16 = np.dtype([(\"qint16\", np.int16, 1)])\n",
      "C:\\Users\\delta\\anaconda3\\envs\\py3_7_tf\\lib\\site-packages\\tensorboard\\compat\\tensorflow_stub\\dtypes.py:544: FutureWarning: Passing (type, 1) or '1type' as a synonym of type is deprecated; in a future version of numpy, it will be understood as (type, (1,)) / '(1,)type'.\n",
      "  _np_quint16 = np.dtype([(\"quint16\", np.uint16, 1)])\n",
      "C:\\Users\\delta\\anaconda3\\envs\\py3_7_tf\\lib\\site-packages\\tensorboard\\compat\\tensorflow_stub\\dtypes.py:545: FutureWarning: Passing (type, 1) or '1type' as a synonym of type is deprecated; in a future version of numpy, it will be understood as (type, (1,)) / '(1,)type'.\n",
      "  _np_qint32 = np.dtype([(\"qint32\", np.int32, 1)])\n",
      "C:\\Users\\delta\\anaconda3\\envs\\py3_7_tf\\lib\\site-packages\\tensorboard\\compat\\tensorflow_stub\\dtypes.py:550: FutureWarning: Passing (type, 1) or '1type' as a synonym of type is deprecated; in a future version of numpy, it will be understood as (type, (1,)) / '(1,)type'.\n",
      "  np_resource = np.dtype([(\"resource\", np.ubyte, 1)])\n"
     ]
    }
   ],
   "source": [
    "import sqlite3\n",
    "import json\n",
    "import pandas as pd\n",
    "import datetime\n",
    "import numpy as np\n",
    "import matplotlib.pyplot as plt\n",
    "import tensorflow as tf\n",
    "from tensorflow import keras\n",
    "from tensorflow.keras import layers\n",
    "from sklearn.model_selection import train_test_split\n",
    "from sklearn import svm\n",
    "from sklearn.metrics import accuracy_score\n",
    "from sklearn.linear_model import LogisticRegression\n",
    "import logging"
   ]
  },
  {
   "cell_type": "code",
   "execution_count": 2,
   "metadata": {},
   "outputs": [
    {
     "name": "stdout",
     "output_type": "stream",
     "text": [
      "[<StreamHandler stderr (INFO)>]\n"
     ]
    }
   ],
   "source": [
    "log = logging.getLogger()\n",
    "\n",
    "formatter = logging.Formatter('%(asctime)s %(levelname)-8s %(message)s')\n",
    "chandler = logging.StreamHandler()\n",
    "chandler.setLevel(logging.INFO)\n",
    "chandler.setFormatter(formatter)\n",
    "\n",
    "log.addHandler(chandler)\n",
    "\n",
    "print(log.handlers)\n",
    "\n",
    "log.setLevel(logging.INFO)\n",
    "\n",
    "\n",
    "# logging.basicConfig(\n",
    "#     format='%(asctime)s %(levelname)-8s %(message)s',\n",
    "#     level=logging.INFO,\n",
    "#     datefmt='%Y-%m-%d %H:%M:%S')\n"
   ]
  },
  {
   "cell_type": "code",
   "execution_count": 3,
   "metadata": {},
   "outputs": [
    {
     "name": "stderr",
     "output_type": "stream",
     "text": [
      "2020-08-01 13:37:27,513 INFO     test\n"
     ]
    }
   ],
   "source": [
    "log.info(\"test\")"
   ]
  },
  {
   "cell_type": "code",
   "execution_count": 4,
   "metadata": {},
   "outputs": [],
   "source": [
    "db_file = \"teemo-tool-data_2020-08-01_01.db\"\n",
    "conn = sqlite3.connect(db_file)\n",
    "cur = conn.cursor()"
   ]
  },
  {
   "cell_type": "code",
   "execution_count": 5,
   "metadata": {},
   "outputs": [],
   "source": [
    "sql_str = \"\"\"\n",
    "SELECT\n",
    "JSON_EXTRACT(match_json, \"$.gameCreation\"),\n",
    "JSON_EXTRACT(match_json, \"$.participants\"),\n",
    "JSON_EXTRACT(match_json, \"$.participantIdentities\"),\n",
    "JSON_EXTRACT(match_json, \"$.teams\")\n",
    "FROM\n",
    "matches\n",
    "\"\"\""
   ]
  },
  {
   "cell_type": "code",
   "execution_count": 6,
   "metadata": {},
   "outputs": [],
   "source": [
    "cur.execute(sql_str)\n",
    "rows = cur.fetchall()"
   ]
  },
  {
   "cell_type": "code",
   "execution_count": 7,
   "metadata": {},
   "outputs": [],
   "source": [
    "df = pd.DataFrame(rows, columns=[\"gameCreation\",\n",
    "                                 \"participants\",\n",
    "                                 \"participantIdentities\",\n",
    "                                 \"teams\"])"
   ]
  },
  {
   "cell_type": "code",
   "execution_count": 8,
   "metadata": {},
   "outputs": [
    {
     "data": {
      "text/plain": [
       "89123"
      ]
     },
     "execution_count": 8,
     "metadata": {},
     "output_type": "execute_result"
    }
   ],
   "source": [
    "len(df)"
   ]
  },
  {
   "cell_type": "code",
   "execution_count": 9,
   "metadata": {},
   "outputs": [
    {
     "data": {
      "text/html": [
       "<div>\n",
       "<style scoped>\n",
       "    .dataframe tbody tr th:only-of-type {\n",
       "        vertical-align: middle;\n",
       "    }\n",
       "\n",
       "    .dataframe tbody tr th {\n",
       "        vertical-align: top;\n",
       "    }\n",
       "\n",
       "    .dataframe thead th {\n",
       "        text-align: right;\n",
       "    }\n",
       "</style>\n",
       "<table border=\"1\" class=\"dataframe\">\n",
       "  <thead>\n",
       "    <tr style=\"text-align: right;\">\n",
       "      <th></th>\n",
       "      <th>gameCreation</th>\n",
       "      <th>participants</th>\n",
       "      <th>participantIdentities</th>\n",
       "      <th>teams</th>\n",
       "    </tr>\n",
       "  </thead>\n",
       "  <tbody>\n",
       "    <tr>\n",
       "      <th>0</th>\n",
       "      <td>1595919773332</td>\n",
       "      <td>[{\"participantId\":1,\"teamId\":100,\"championId\":...</td>\n",
       "      <td>[{\"participantId\":1,\"player\":{\"platformId\":\"NA...</td>\n",
       "      <td>[{\"teamId\":100,\"win\":\"Fail\",\"firstBlood\":true,...</td>\n",
       "    </tr>\n",
       "    <tr>\n",
       "      <th>1</th>\n",
       "      <td>1595915146059</td>\n",
       "      <td>[{\"participantId\":1,\"teamId\":100,\"championId\":...</td>\n",
       "      <td>[{\"participantId\":1,\"player\":{\"platformId\":\"NA...</td>\n",
       "      <td>[{\"teamId\":100,\"win\":\"Win\",\"firstBlood\":true,\"...</td>\n",
       "    </tr>\n",
       "    <tr>\n",
       "      <th>2</th>\n",
       "      <td>1595904088319</td>\n",
       "      <td>[{\"participantId\":1,\"teamId\":100,\"championId\":...</td>\n",
       "      <td>[{\"participantId\":1,\"player\":{\"platformId\":\"NA...</td>\n",
       "      <td>[{\"teamId\":100,\"win\":\"Fail\",\"firstBlood\":false...</td>\n",
       "    </tr>\n",
       "  </tbody>\n",
       "</table>\n",
       "</div>"
      ],
      "text/plain": [
       "    gameCreation                                       participants  \\\n",
       "0  1595919773332  [{\"participantId\":1,\"teamId\":100,\"championId\":...   \n",
       "1  1595915146059  [{\"participantId\":1,\"teamId\":100,\"championId\":...   \n",
       "2  1595904088319  [{\"participantId\":1,\"teamId\":100,\"championId\":...   \n",
       "\n",
       "                               participantIdentities  \\\n",
       "0  [{\"participantId\":1,\"player\":{\"platformId\":\"NA...   \n",
       "1  [{\"participantId\":1,\"player\":{\"platformId\":\"NA...   \n",
       "2  [{\"participantId\":1,\"player\":{\"platformId\":\"NA...   \n",
       "\n",
       "                                               teams  \n",
       "0  [{\"teamId\":100,\"win\":\"Fail\",\"firstBlood\":true,...  \n",
       "1  [{\"teamId\":100,\"win\":\"Win\",\"firstBlood\":true,\"...  \n",
       "2  [{\"teamId\":100,\"win\":\"Fail\",\"firstBlood\":false...  "
      ]
     },
     "execution_count": 9,
     "metadata": {},
     "output_type": "execute_result"
    }
   ],
   "source": [
    "df.head(3)"
   ]
  },
  {
   "cell_type": "code",
   "execution_count": 10,
   "metadata": {},
   "outputs": [
    {
     "data": {
      "text/plain": [
       "1595919773332"
      ]
     },
     "execution_count": 10,
     "metadata": {},
     "output_type": "execute_result"
    }
   ],
   "source": [
    "df.iloc[0][\"gameCreation\"]"
   ]
  },
  {
   "cell_type": "code",
   "execution_count": 11,
   "metadata": {},
   "outputs": [
    {
     "data": {
      "text/plain": [
       "datetime.datetime(2020, 7, 28, 1, 2, 53)"
      ]
     },
     "execution_count": 11,
     "metadata": {},
     "output_type": "execute_result"
    }
   ],
   "source": [
    "datetime.datetime.fromtimestamp(1595919773332 // 1000)"
   ]
  },
  {
   "cell_type": "code",
   "execution_count": 12,
   "metadata": {},
   "outputs": [
    {
     "data": {
      "text/plain": [
       "Timestamp('1970-01-01 00:26:35.919773332')"
      ]
     },
     "execution_count": 12,
     "metadata": {},
     "output_type": "execute_result"
    }
   ],
   "source": [
    "pd.to_datetime(df.iloc[0][\"gameCreation\"])"
   ]
  },
  {
   "cell_type": "code",
   "execution_count": 13,
   "metadata": {},
   "outputs": [
    {
     "data": {
      "text/plain": [
       "0       2020-07-28 01:02:53\n",
       "1       2020-07-27 23:45:46\n",
       "2       2020-07-27 20:41:28\n",
       "3       2020-07-27 19:56:15\n",
       "4       2020-07-27 19:11:54\n",
       "                ...        \n",
       "89118   2020-07-09 08:38:54\n",
       "89119   2020-07-09 08:03:19\n",
       "89120   2020-07-09 07:01:54\n",
       "89121   2020-07-09 06:35:14\n",
       "89122   2020-07-09 05:09:03\n",
       "Name: gameCreation, Length: 89123, dtype: datetime64[ns]"
      ]
     },
     "execution_count": 13,
     "metadata": {},
     "output_type": "execute_result"
    }
   ],
   "source": [
    "df[\"gameCreation\"].apply(lambda x: datetime.datetime.fromtimestamp(x // 1000))"
   ]
  },
  {
   "cell_type": "code",
   "execution_count": 14,
   "metadata": {},
   "outputs": [],
   "source": [
    "df[\"gameCreationDT\"] = df[\"gameCreation\"].apply(lambda x: datetime.datetime.fromtimestamp(x // 1000))"
   ]
  },
  {
   "cell_type": "code",
   "execution_count": 15,
   "metadata": {},
   "outputs": [],
   "source": [
    "def extract_relevant_from_participant_ids(participant_ids):\n",
    "    def extract_id(id_dict):\n",
    "        return {key: id_dict[\"player\"][key] for key in (\"summonerName\",\n",
    "                                                        \"currentPlatformId\")}\n",
    "    \n",
    "    return [extract_id(x) for x in participant_ids]"
   ]
  },
  {
   "cell_type": "code",
   "execution_count": 16,
   "metadata": {},
   "outputs": [
    {
     "data": {
      "text/plain": [
       "[{'summonerName': 'HypedBenji', 'currentPlatformId': 'NA1'},\n",
       " {'summonerName': 'VANKOOKDAE', 'currentPlatformId': 'NA1'},\n",
       " {'summonerName': 'SamBill2019', 'currentPlatformId': 'NA1'},\n",
       " {'summonerName': 'eddymartinreal', 'currentPlatformId': 'NA1'},\n",
       " {'summonerName': 'ghost4507', 'currentPlatformId': 'NA1'},\n",
       " {'summonerName': 'DaffyOof', 'currentPlatformId': 'NA1'},\n",
       " {'summonerName': 'niqioedsjfa', 'currentPlatformId': 'NA1'},\n",
       " {'summonerName': 'darkKIRIN808', 'currentPlatformId': 'NA1'},\n",
       " {'summonerName': 'POGBA23', 'currentPlatformId': 'NA1'},\n",
       " {'summonerName': 'llIlllIlllIlXX', 'currentPlatformId': 'NA1'}]"
      ]
     },
     "execution_count": 16,
     "metadata": {},
     "output_type": "execute_result"
    }
   ],
   "source": [
    "extract_relevant_from_participant_ids(\n",
    "    json.loads(\n",
    "        df.iloc[0][\"participantIdentities\"]))"
   ]
  },
  {
   "cell_type": "code",
   "execution_count": 17,
   "metadata": {},
   "outputs": [],
   "source": [
    "df[\"playerInfo\"] = df[\"participantIdentities\"].apply(\n",
    "    lambda x: extract_relevant_from_participant_ids(json.loads(x)))"
   ]
  },
  {
   "cell_type": "code",
   "execution_count": 18,
   "metadata": {},
   "outputs": [
    {
     "data": {
      "text/plain": [
       "{'summonerName': 'HypedBenji', 'currentPlatformId': 'NA1'}"
      ]
     },
     "execution_count": 18,
     "metadata": {},
     "output_type": "execute_result"
    }
   ],
   "source": [
    "df.iloc[0][\"playerInfo\"][0]"
   ]
  },
  {
   "cell_type": "code",
   "execution_count": 19,
   "metadata": {},
   "outputs": [],
   "source": [
    "# https://stackoverflow.com/questions/31031561/sqlite-query-to-get-the-closest-datetime#:~:text=To%20get%20the%20closest%20date,select%20t.ID%2C%20t.\n",
    "\n",
    "# counter = 0\n",
    "def get_closest_mmr_json(timestamp, playerinfo):\n",
    "#     global counter\n",
    "#     counter += 1\n",
    "#     if counter % 1000 == 0:\n",
    "#         log.info(\"on player %s\" % (counter))\n",
    "\n",
    "#     sql_str = \"\"\"\n",
    "#     SELECT mmr_json,\n",
    "#            abs(strftime('%%s', '%s') - strftime('%%s', timestamp))\n",
    "#     FROM mmr\n",
    "#     WHERE JSON_EXTRACT(summoner_json, '$.name') = \"%s\"\n",
    "#     ORDER BY abs(strftime('%%s', '%s') - strftime('%%s', timestamp))\n",
    "#     LIMIT 1\n",
    "#     \"\"\" % (timestamp, playerinfo[\"summonerName\"], timestamp)\n",
    "    sql_str = \"\"\"\n",
    "    SELECT mmr_json\n",
    "    FROM mmr\n",
    "    WHERE JSON_EXTRACT(summoner_json, '$.name') = \"%s\"\n",
    "    LIMIT 1\n",
    "    \"\"\" % (playerinfo[\"summonerName\"],)\n",
    "    cur.execute(sql_str)\n",
    "    allrows = cur.fetchall()\n",
    "    if len(allrows) == 0:\n",
    "        return None\n",
    "    row = allrows[0]\n",
    "    mmr_json = row[0]\n",
    "    return mmr_json"
   ]
  },
  {
   "cell_type": "code",
   "execution_count": 20,
   "metadata": {},
   "outputs": [
    {
     "data": {
      "text/plain": [
       "'{\"ranked\":{\"avg\":409,\"err\":64,\"warn\":false,\"summary\":\"Slightly <b>below Bronze III</b><br><br><span class=\\\\\"symbol--micro\\\\\"></span>MMR resembles the <b>bottom 26%</b> of summoners in Bronze III\",\"tierData\":[{\"name\":\"Bronze IV\",\"avg\":474,\"min\":342,\"max\":578},{\"name\":\"Bronze III\",\"avg\":455,\"min\":382,\"max\":565},{\"name\":\"Bronze II\",\"avg\":576,\"min\":459,\"max\":696}],\"timestamp\":1595917857,\"historical\":[{\"avg\":415,\"err\":61,\"warn\":false,\"timestamp\":1595894400},{\"avg\":388,\"err\":75,\"warn\":false,\"timestamp\":1595721600},{\"avg\":422,\"err\":77,\"warn\":false,\"timestamp\":1595635200},{\"avg\":404,\"err\":42,\"warn\":false,\"timestamp\":1595548800},{\"avg\":388,\"err\":43,\"warn\":false,\"timestamp\":1595376000},{\"avg\":410,\"err\":30,\"warn\":false,\"timestamp\":1595116800},{\"avg\":470,\"err\":72,\"warn\":false,\"timestamp\":1594684800},{\"avg\":546,\"err\":56,\"warn\":false,\"timestamp\":1594598400},{\"avg\":517,\"err\":47,\"warn\":false,\"timestamp\":1594512000},{\"avg\":499,\"err\":52,\"warn\":false,\"timestamp\":1594166400},{\"avg\":462,\"err\":64,\"warn\":false,\"timestamp\":1593734400},{\"avg\":510,\"err\":60,\"warn\":false,\"timestamp\":1593648000}],\"historicalTierData\":[{\"name\":\"Iron I\",\"avg\":0},{\"name\":\"Bronze IV\",\"avg\":474},{\"name\":\"Bronze III\",\"avg\":455},{\"name\":\"Bronze II\",\"avg\":576}]},\"normal\":{\"avg\":1048,\"err\":50,\"warn\":false,\"timestamp\":1595730075,\"historical\":[{\"avg\":1041,\"err\":45,\"warn\":false,\"timestamp\":1595721600},{\"avg\":1103,\"err\":63,\"warn\":false,\"timestamp\":1595376000},{\"avg\":1010,\"err\":17,\"warn\":false,\"timestamp\":1594857600}]},\"ARAM\":{\"avg\":null,\"err\":99,\"warn\":true,\"timestamp\":null,\"historical\":[]}}'"
      ]
     },
     "execution_count": 20,
     "metadata": {},
     "output_type": "execute_result"
    }
   ],
   "source": [
    "get_closest_mmr_json(df.iloc[0][\"gameCreationDT\"],\n",
    "                df.iloc[0][\"playerInfo\"][0])"
   ]
  },
  {
   "cell_type": "code",
   "execution_count": 21,
   "metadata": {},
   "outputs": [],
   "source": [
    "mmr_cache = {}"
   ]
  },
  {
   "cell_type": "code",
   "execution_count": 22,
   "metadata": {},
   "outputs": [],
   "source": [
    "cache_hits = 0\n",
    "cache_misses = 0\n",
    "total_processed = 0\n",
    "def get_closest_ranked_avg_mmr(timestamp, playerinfo):\n",
    "    global mmr_cache\n",
    "    global cache_hits\n",
    "    global cache_misses\n",
    "    global total_processed\n",
    "    \n",
    "    cache_key = playerinfo[\"summonerName\"]\n",
    "    \n",
    "    total_processed += 1\n",
    "    if total_processed % 1000 == 0:\n",
    "        log.info(\"total: %s   cachehits: %s   cachemisses: %s\" % (total_processed,\n",
    "                                                                  cache_hits,\n",
    "                                                                  cache_misses))\n",
    "    \n",
    "    if cache_key in mmr_cache:\n",
    "        cache_hits += 1\n",
    "        return mmr_cache[cache_key]\n",
    "    else:\n",
    "        cache_misses += 1\n",
    "    \n",
    "    mmr_json = get_closest_mmr_json(timestamp, playerinfo)\n",
    "    if mmr_json == None:\n",
    "        mmr_cache[cache_key] = None\n",
    "        return None\n",
    "    \n",
    "    mmr = json.loads(mmr_json)[\"ranked\"][\"avg\"]\n",
    "    mmr_cache[cache_key] = mmr\n",
    "    return mmr"
   ]
  },
  {
   "cell_type": "code",
   "execution_count": 23,
   "metadata": {},
   "outputs": [
    {
     "name": "stdout",
     "output_type": "stream",
     "text": [
      "Wall time: 1e+03 µs\n"
     ]
    },
    {
     "data": {
      "text/plain": [
       "409"
      ]
     },
     "execution_count": 23,
     "metadata": {},
     "output_type": "execute_result"
    }
   ],
   "source": [
    "%%time\n",
    "get_closest_ranked_avg_mmr(df.iloc[0][\"gameCreationDT\"],\n",
    "                df.iloc[0][\"playerInfo\"][0])"
   ]
  },
  {
   "cell_type": "code",
   "execution_count": 24,
   "metadata": {},
   "outputs": [
    {
     "data": {
      "text/html": [
       "<div>\n",
       "<style scoped>\n",
       "    .dataframe tbody tr th:only-of-type {\n",
       "        vertical-align: middle;\n",
       "    }\n",
       "\n",
       "    .dataframe tbody tr th {\n",
       "        vertical-align: top;\n",
       "    }\n",
       "\n",
       "    .dataframe thead th {\n",
       "        text-align: right;\n",
       "    }\n",
       "</style>\n",
       "<table border=\"1\" class=\"dataframe\">\n",
       "  <thead>\n",
       "    <tr style=\"text-align: right;\">\n",
       "      <th></th>\n",
       "      <th>gameCreation</th>\n",
       "      <th>participants</th>\n",
       "      <th>participantIdentities</th>\n",
       "      <th>teams</th>\n",
       "      <th>gameCreationDT</th>\n",
       "      <th>playerInfo</th>\n",
       "    </tr>\n",
       "  </thead>\n",
       "  <tbody>\n",
       "    <tr>\n",
       "      <th>0</th>\n",
       "      <td>1595919773332</td>\n",
       "      <td>[{\"participantId\":1,\"teamId\":100,\"championId\":...</td>\n",
       "      <td>[{\"participantId\":1,\"player\":{\"platformId\":\"NA...</td>\n",
       "      <td>[{\"teamId\":100,\"win\":\"Fail\",\"firstBlood\":true,...</td>\n",
       "      <td>2020-07-28 01:02:53</td>\n",
       "      <td>[{'summonerName': 'HypedBenji', 'currentPlatfo...</td>\n",
       "    </tr>\n",
       "    <tr>\n",
       "      <th>1</th>\n",
       "      <td>1595915146059</td>\n",
       "      <td>[{\"participantId\":1,\"teamId\":100,\"championId\":...</td>\n",
       "      <td>[{\"participantId\":1,\"player\":{\"platformId\":\"NA...</td>\n",
       "      <td>[{\"teamId\":100,\"win\":\"Win\",\"firstBlood\":true,\"...</td>\n",
       "      <td>2020-07-27 23:45:46</td>\n",
       "      <td>[{'summonerName': 'Kurdsintheway', 'currentPla...</td>\n",
       "    </tr>\n",
       "    <tr>\n",
       "      <th>2</th>\n",
       "      <td>1595904088319</td>\n",
       "      <td>[{\"participantId\":1,\"teamId\":100,\"championId\":...</td>\n",
       "      <td>[{\"participantId\":1,\"player\":{\"platformId\":\"NA...</td>\n",
       "      <td>[{\"teamId\":100,\"win\":\"Fail\",\"firstBlood\":false...</td>\n",
       "      <td>2020-07-27 20:41:28</td>\n",
       "      <td>[{'summonerName': 'Astolfo39', 'currentPlatfor...</td>\n",
       "    </tr>\n",
       "  </tbody>\n",
       "</table>\n",
       "</div>"
      ],
      "text/plain": [
       "    gameCreation                                       participants  \\\n",
       "0  1595919773332  [{\"participantId\":1,\"teamId\":100,\"championId\":...   \n",
       "1  1595915146059  [{\"participantId\":1,\"teamId\":100,\"championId\":...   \n",
       "2  1595904088319  [{\"participantId\":1,\"teamId\":100,\"championId\":...   \n",
       "\n",
       "                               participantIdentities  \\\n",
       "0  [{\"participantId\":1,\"player\":{\"platformId\":\"NA...   \n",
       "1  [{\"participantId\":1,\"player\":{\"platformId\":\"NA...   \n",
       "2  [{\"participantId\":1,\"player\":{\"platformId\":\"NA...   \n",
       "\n",
       "                                               teams      gameCreationDT  \\\n",
       "0  [{\"teamId\":100,\"win\":\"Fail\",\"firstBlood\":true,... 2020-07-28 01:02:53   \n",
       "1  [{\"teamId\":100,\"win\":\"Win\",\"firstBlood\":true,\"... 2020-07-27 23:45:46   \n",
       "2  [{\"teamId\":100,\"win\":\"Fail\",\"firstBlood\":false... 2020-07-27 20:41:28   \n",
       "\n",
       "                                          playerInfo  \n",
       "0  [{'summonerName': 'HypedBenji', 'currentPlatfo...  \n",
       "1  [{'summonerName': 'Kurdsintheway', 'currentPla...  \n",
       "2  [{'summonerName': 'Astolfo39', 'currentPlatfor...  "
      ]
     },
     "execution_count": 24,
     "metadata": {},
     "output_type": "execute_result"
    }
   ],
   "source": [
    "df.head(3)"
   ]
  },
  {
   "cell_type": "code",
   "execution_count": 25,
   "metadata": {},
   "outputs": [],
   "source": [
    "def get_players_mmr_for_row(row):\n",
    "    playerInfos = row[\"playerInfo\"]\n",
    "    timestamp = row[\"gameCreationDT\"]\n",
    "    return list(map(lambda playerInfo:\n",
    "                    get_closest_ranked_avg_mmr(timestamp, playerInfo),\n",
    "                    playerInfos))"
   ]
  },
  {
   "cell_type": "code",
   "execution_count": 26,
   "metadata": {},
   "outputs": [
    {
     "name": "stderr",
     "output_type": "stream",
     "text": [
      "2020-08-01 13:38:06,103 WARNING  test\n"
     ]
    }
   ],
   "source": [
    "logging.warning(\"test\")"
   ]
  },
  {
   "cell_type": "code",
   "execution_count": 27,
   "metadata": {},
   "outputs": [
    {
     "data": {
      "text/plain": [
       "89123"
      ]
     },
     "execution_count": 27,
     "metadata": {},
     "output_type": "execute_result"
    }
   ],
   "source": [
    "len(df)"
   ]
  },
  {
   "cell_type": "code",
   "execution_count": 28,
   "metadata": {},
   "outputs": [],
   "source": [
    "df_reduced = df.head(20000)"
   ]
  },
  {
   "cell_type": "code",
   "execution_count": 29,
   "metadata": {},
   "outputs": [
    {
     "name": "stderr",
     "output_type": "stream",
     "text": [
      "2020-08-01 13:38:14,312 INFO     total: 1000   cachehits: 171   cachemisses: 828\n",
      "2020-08-01 13:38:25,690 INFO     total: 2000   cachehits: 289   cachemisses: 1710\n",
      "2020-08-01 13:38:42,238 INFO     total: 3000   cachehits: 414   cachemisses: 2585\n",
      "2020-08-01 13:39:03,632 INFO     total: 4000   cachehits: 555   cachemisses: 3444\n",
      "2020-08-01 13:39:26,571 INFO     total: 5000   cachehits: 726   cachemisses: 4273\n",
      "2020-08-01 13:39:50,488 INFO     total: 6000   cachehits: 888   cachemisses: 5111\n",
      "2020-08-01 13:40:18,803 INFO     total: 7000   cachehits: 1061   cachemisses: 5938\n",
      "2020-08-01 13:40:54,391 INFO     total: 8000   cachehits: 1225   cachemisses: 6774\n",
      "2020-08-01 13:41:57,361 INFO     total: 9000   cachehits: 1399   cachemisses: 7600\n",
      "2020-08-01 13:42:36,910 INFO     total: 10000   cachehits: 1625   cachemisses: 8374\n",
      "2020-08-01 13:43:06,822 INFO     total: 11000   cachehits: 1843   cachemisses: 9156\n",
      "2020-08-01 13:43:42,711 INFO     total: 12000   cachehits: 2072   cachemisses: 9927\n",
      "2020-08-01 13:44:41,210 INFO     total: 13000   cachehits: 2285   cachemisses: 10714\n",
      "2020-08-01 13:45:35,866 INFO     total: 14000   cachehits: 2481   cachemisses: 11518\n",
      "2020-08-01 13:46:14,450 INFO     total: 15000   cachehits: 2773   cachemisses: 12226\n",
      "2020-08-01 13:47:04,930 INFO     total: 16000   cachehits: 2935   cachemisses: 13064\n",
      "2020-08-01 13:47:52,105 INFO     total: 17000   cachehits: 3141   cachemisses: 13858\n",
      "2020-08-01 13:48:50,480 INFO     total: 18000   cachehits: 3297   cachemisses: 14702\n",
      "2020-08-01 13:49:41,168 INFO     total: 19000   cachehits: 3549   cachemisses: 15450\n",
      "2020-08-01 13:50:26,759 INFO     total: 20000   cachehits: 3872   cachemisses: 16127\n",
      "2020-08-01 13:51:45,423 INFO     total: 21000   cachehits: 4069   cachemisses: 16930\n",
      "2020-08-01 13:52:44,045 INFO     total: 22000   cachehits: 4298   cachemisses: 17701\n",
      "2020-08-01 13:53:35,678 INFO     total: 23000   cachehits: 4592   cachemisses: 18407\n",
      "2020-08-01 13:54:32,940 INFO     total: 24000   cachehits: 4846   cachemisses: 19153\n",
      "2020-08-01 13:55:30,240 INFO     total: 25000   cachehits: 5157   cachemisses: 19842\n",
      "2020-08-01 13:56:31,771 INFO     total: 26000   cachehits: 5451   cachemisses: 20548\n",
      "2020-08-01 13:58:18,693 INFO     total: 27000   cachehits: 5698   cachemisses: 21301\n",
      "2020-08-01 13:59:19,417 INFO     total: 28000   cachehits: 6021   cachemisses: 21978\n",
      "2020-08-01 14:00:24,646 INFO     total: 29000   cachehits: 6281   cachemisses: 22718\n",
      "2020-08-01 14:01:25,958 INFO     total: 30000   cachehits: 6613   cachemisses: 23386\n",
      "2020-08-01 14:02:28,005 INFO     total: 31000   cachehits: 6943   cachemisses: 24056\n",
      "2020-08-01 14:04:18,669 INFO     total: 32000   cachehits: 7142   cachemisses: 24857\n",
      "2020-08-01 14:05:46,967 INFO     total: 33000   cachehits: 7400   cachemisses: 25599\n",
      "2020-08-01 14:06:55,893 INFO     total: 34000   cachehits: 7684   cachemisses: 26315\n",
      "2020-08-01 14:08:14,571 INFO     total: 35000   cachehits: 8123   cachemisses: 26876\n",
      "2020-08-01 14:09:45,089 INFO     total: 36000   cachehits: 8408   cachemisses: 27591\n",
      "2020-08-01 14:11:00,690 INFO     total: 37000   cachehits: 8693   cachemisses: 28306\n",
      "2020-08-01 14:12:50,742 INFO     total: 38000   cachehits: 8926   cachemisses: 29073\n",
      "2020-08-01 14:13:58,532 INFO     total: 39000   cachehits: 9357   cachemisses: 29642\n",
      "2020-08-01 14:15:17,332 INFO     total: 40000   cachehits: 9673   cachemisses: 30326\n",
      "2020-08-01 14:16:53,497 INFO     total: 41000   cachehits: 9920   cachemisses: 31079\n",
      "2020-08-01 14:18:50,618 INFO     total: 42000   cachehits: 10135   cachemisses: 31864\n",
      "2020-08-01 14:20:11,735 INFO     total: 43000   cachehits: 10442   cachemisses: 32557\n",
      "2020-08-01 14:21:33,227 INFO     total: 44000   cachehits: 10801   cachemisses: 33198\n",
      "2020-08-01 14:22:57,745 INFO     total: 45000   cachehits: 11119   cachemisses: 33880\n",
      "2020-08-01 14:24:20,424 INFO     total: 46000   cachehits: 11452   cachemisses: 34547\n",
      "2020-08-01 14:25:57,877 INFO     total: 47000   cachehits: 11681   cachemisses: 35318\n",
      "2020-08-01 14:27:40,382 INFO     total: 48000   cachehits: 11889   cachemisses: 36110\n",
      "2020-08-01 14:29:13,784 INFO     total: 49000   cachehits: 12169   cachemisses: 36830\n",
      "2020-08-01 14:30:40,308 INFO     total: 50000   cachehits: 12515   cachemisses: 37484\n",
      "2020-08-01 14:32:11,314 INFO     total: 51000   cachehits: 12847   cachemisses: 38152\n",
      "2020-08-01 14:33:54,611 INFO     total: 52000   cachehits: 13119   cachemisses: 38880\n",
      "2020-08-01 14:35:40,167 INFO     total: 53000   cachehits: 13369   cachemisses: 39630\n",
      "2020-08-01 14:37:29,416 INFO     total: 54000   cachehits: 13601   cachemisses: 40398\n",
      "2020-08-01 14:39:27,518 INFO     total: 55000   cachehits: 13817   cachemisses: 41182\n",
      "2020-08-01 14:41:08,152 INFO     total: 56000   cachehits: 14144   cachemisses: 41855\n",
      "2020-08-01 14:42:49,496 INFO     total: 57000   cachehits: 14471   cachemisses: 42528\n",
      "2020-08-01 14:44:42,534 INFO     total: 58000   cachehits: 14758   cachemisses: 43241\n",
      "2020-08-01 14:46:19,485 INFO     total: 59000   cachehits: 15147   cachemisses: 43852\n",
      "2020-08-01 14:47:53,165 INFO     total: 60000   cachehits: 15552   cachemisses: 44447\n",
      "2020-08-01 14:49:39,503 INFO     total: 61000   cachehits: 15917   cachemisses: 45082\n",
      "2020-08-01 14:51:42,953 INFO     total: 62000   cachehits: 16227   cachemisses: 45772\n",
      "2020-08-01 14:53:34,583 INFO     total: 63000   cachehits: 16549   cachemisses: 46450\n",
      "2020-08-01 14:55:33,151 INFO     total: 64000   cachehits: 16852   cachemisses: 47147\n",
      "2020-08-01 14:57:35,359 INFO     total: 65000   cachehits: 17143   cachemisses: 47856\n",
      "2020-08-01 14:59:31,554 INFO     total: 66000   cachehits: 17482   cachemisses: 48517\n",
      "2020-08-01 15:01:31,988 INFO     total: 67000   cachehits: 17826   cachemisses: 49173\n",
      "2020-08-01 15:03:44,407 INFO     total: 68000   cachehits: 18136   cachemisses: 49863\n",
      "2020-08-01 15:05:31,877 INFO     total: 69000   cachehits: 18563   cachemisses: 50436\n",
      "2020-08-01 15:07:14,605 INFO     total: 70000   cachehits: 19037   cachemisses: 50962\n",
      "2020-08-01 15:10:11,119 INFO     total: 71000   cachehits: 19247   cachemisses: 51752\n",
      "2020-08-01 15:11:57,228 INFO     total: 72000   cachehits: 19722   cachemisses: 52277\n",
      "2020-08-01 15:13:38,221 INFO     total: 73000   cachehits: 20206   cachemisses: 52793\n",
      "2020-08-01 15:15:46,365 INFO     total: 74000   cachehits: 20562   cachemisses: 53437\n",
      "2020-08-01 15:17:35,113 INFO     total: 75000   cachehits: 21021   cachemisses: 53978\n",
      "2020-08-01 15:20:23,861 INFO     total: 76000   cachehits: 21291   cachemisses: 54708\n",
      "2020-08-01 15:22:02,655 INFO     total: 77000   cachehits: 21786   cachemisses: 55213\n",
      "2020-08-01 15:24:15,909 INFO     total: 78000   cachehits: 22177   cachemisses: 55822\n",
      "2020-08-01 15:25:51,918 INFO     total: 79000   cachehits: 22695   cachemisses: 56304\n",
      "2020-08-01 15:28:02,574 INFO     total: 80000   cachehits: 23052   cachemisses: 56947\n",
      "2020-08-01 15:30:18,618 INFO     total: 81000   cachehits: 23416   cachemisses: 57583\n",
      "2020-08-01 15:32:49,975 INFO     total: 82000   cachehits: 23732   cachemisses: 58267\n",
      "2020-08-01 15:35:21,500 INFO     total: 83000   cachehits: 24064   cachemisses: 58935\n",
      "2020-08-01 15:37:42,495 INFO     total: 84000   cachehits: 24389   cachemisses: 59610\n",
      "2020-08-01 15:39:40,516 INFO     total: 85000   cachehits: 24830   cachemisses: 60169\n",
      "2020-08-01 15:41:36,598 INFO     total: 86000   cachehits: 25285   cachemisses: 60714\n",
      "2020-08-01 15:43:44,010 INFO     total: 87000   cachehits: 25687   cachemisses: 61312\n",
      "2020-08-01 15:46:26,108 INFO     total: 88000   cachehits: 25946   cachemisses: 62053\n",
      "2020-08-01 15:48:36,260 INFO     total: 89000   cachehits: 26368   cachemisses: 62631\n",
      "2020-08-01 15:50:48,222 INFO     total: 90000   cachehits: 26796   cachemisses: 63203\n",
      "2020-08-01 15:52:45,668 INFO     total: 91000   cachehits: 27275   cachemisses: 63724\n",
      "2020-08-01 15:54:34,154 INFO     total: 92000   cachehits: 27800   cachemisses: 64199\n",
      "2020-08-01 15:56:34,101 INFO     total: 93000   cachehits: 28262   cachemisses: 64737\n",
      "2020-08-01 15:58:46,140 INFO     total: 94000   cachehits: 28667   cachemisses: 65332\n",
      "2020-08-01 16:00:59,090 INFO     total: 95000   cachehits: 29090   cachemisses: 65909\n",
      "2020-08-01 16:03:38,175 INFO     total: 96000   cachehits: 29413   cachemisses: 66586\n",
      "2020-08-01 16:06:02,183 INFO     total: 97000   cachehits: 29791   cachemisses: 67208\n"
     ]
    },
    {
     "name": "stderr",
     "output_type": "stream",
     "text": [
      "2020-08-01 16:08:41,540 INFO     total: 98000   cachehits: 30099   cachemisses: 67900\n",
      "2020-08-01 16:11:09,890 INFO     total: 99000   cachehits: 30460   cachemisses: 68539\n",
      "2020-08-01 16:13:29,592 INFO     total: 100000   cachehits: 30869   cachemisses: 69130\n",
      "2020-08-01 16:16:07,900 INFO     total: 101000   cachehits: 31231   cachemisses: 69768\n",
      "2020-08-01 16:18:08,613 INFO     total: 102000   cachehits: 31734   cachemisses: 70265\n",
      "2020-08-01 16:19:57,173 INFO     total: 103000   cachehits: 32285   cachemisses: 70714\n",
      "2020-08-01 16:22:12,206 INFO     total: 104000   cachehits: 32738   cachemisses: 71261\n",
      "2020-08-01 16:24:56,523 INFO     total: 105000   cachehits: 33091   cachemisses: 71908\n",
      "2020-08-01 16:27:40,476 INFO     total: 106000   cachehits: 33447   cachemisses: 72552\n",
      "2020-08-01 16:30:10,607 INFO     total: 107000   cachehits: 33848   cachemisses: 73151\n",
      "2020-08-01 16:32:15,750 INFO     total: 108000   cachehits: 34347   cachemisses: 73652\n",
      "2020-08-01 16:34:06,909 INFO     total: 109000   cachehits: 34901   cachemisses: 74098\n",
      "2020-08-01 16:36:12,394 INFO     total: 110000   cachehits: 35405   cachemisses: 74594\n",
      "2020-08-01 16:38:11,928 INFO     total: 111000   cachehits: 35934   cachemisses: 75065\n",
      "2020-08-01 16:40:22,712 INFO     total: 112000   cachehits: 36426   cachemisses: 75573\n",
      "2020-08-01 16:42:50,207 INFO     total: 113000   cachehits: 36862   cachemisses: 76137\n",
      "2020-08-01 16:44:38,613 INFO     total: 114000   cachehits: 37444   cachemisses: 76555\n",
      "2020-08-01 16:46:25,980 INFO     total: 115000   cachehits: 38033   cachemisses: 76966\n",
      "2020-08-01 16:48:59,069 INFO     total: 116000   cachehits: 38449   cachemisses: 77550\n",
      "2020-08-01 16:51:47,352 INFO     total: 117000   cachehits: 38817   cachemisses: 78182\n",
      "2020-08-01 16:54:33,973 INFO     total: 118000   cachehits: 39192   cachemisses: 78807\n",
      "2020-08-01 16:57:24,946 INFO     total: 119000   cachehits: 39557   cachemisses: 79442\n",
      "2020-08-01 17:00:34,732 INFO     total: 120000   cachehits: 39855   cachemisses: 80144\n",
      "2020-08-01 17:03:37,644 INFO     total: 121000   cachehits: 40180   cachemisses: 80819\n",
      "2020-08-01 17:07:20,597 INFO     total: 122000   cachehits: 40358   cachemisses: 81641\n",
      "2020-08-01 17:10:29,147 INFO     total: 123000   cachehits: 40667   cachemisses: 82332\n",
      "2020-08-01 17:12:30,163 INFO     total: 124000   cachehits: 41224   cachemisses: 82775\n",
      "2020-08-01 17:15:25,242 INFO     total: 125000   cachehits: 41580   cachemisses: 83419\n",
      "2020-08-01 17:18:53,559 INFO     total: 126000   cachehits: 41820   cachemisses: 84179\n",
      "2020-08-01 17:22:00,812 INFO     total: 127000   cachehits: 42150   cachemisses: 84849\n",
      "2020-08-01 17:25:05,358 INFO     total: 128000   cachehits: 42486   cachemisses: 85513\n",
      "2020-08-01 17:28:04,039 INFO     total: 129000   cachehits: 42851   cachemisses: 86148\n",
      "2020-08-01 17:31:27,234 INFO     total: 130000   cachehits: 43126   cachemisses: 86873\n",
      "2020-08-01 17:34:45,536 INFO     total: 131000   cachehits: 43420   cachemisses: 87579\n",
      "2020-08-01 17:37:58,931 INFO     total: 132000   cachehits: 43728   cachemisses: 88271\n",
      "2020-08-01 17:41:18,771 INFO     total: 133000   cachehits: 44016   cachemisses: 88983\n",
      "2020-08-01 17:44:27,308 INFO     total: 134000   cachehits: 44342   cachemisses: 89657\n",
      "2020-08-01 17:47:31,773 INFO     total: 135000   cachehits: 44738   cachemisses: 90261\n",
      "2020-08-01 17:50:46,348 INFO     total: 136000   cachehits: 45098   cachemisses: 90901\n",
      "2020-08-01 17:53:58,799 INFO     total: 137000   cachehits: 45463   cachemisses: 91536\n",
      "2020-08-01 17:57:32,527 INFO     total: 138000   cachehits: 45748   cachemisses: 92251\n",
      "2020-08-01 18:00:30,757 INFO     total: 139000   cachehits: 46159   cachemisses: 92840\n",
      "2020-08-01 18:03:50,925 INFO     total: 140000   cachehits: 46495   cachemisses: 93504\n",
      "2020-08-01 18:06:55,100 INFO     total: 141000   cachehits: 46874   cachemisses: 94125\n",
      "2020-08-01 18:10:13,511 INFO     total: 142000   cachehits: 47192   cachemisses: 94807\n",
      "2020-08-01 18:13:56,372 INFO     total: 143000   cachehits: 47454   cachemisses: 95545\n",
      "2020-08-01 18:17:06,096 INFO     total: 144000   cachehits: 47818   cachemisses: 96181\n",
      "2020-08-01 18:19:53,954 INFO     total: 145000   cachehits: 48256   cachemisses: 96743\n",
      "2020-08-01 18:23:31,780 INFO     total: 146000   cachehits: 48527   cachemisses: 97472\n",
      "2020-08-01 18:26:26,899 INFO     total: 147000   cachehits: 48943   cachemisses: 98056\n",
      "2020-08-01 18:29:26,270 INFO     total: 148000   cachehits: 49348   cachemisses: 98651\n",
      "2020-08-01 18:32:08,558 INFO     total: 149000   cachehits: 49806   cachemisses: 99193\n",
      "2020-08-01 18:35:07,797 INFO     total: 150000   cachehits: 50206   cachemisses: 99793\n",
      "2020-08-01 18:37:43,950 INFO     total: 151000   cachehits: 50682   cachemisses: 100317\n",
      "2020-08-01 18:41:31,318 INFO     total: 152000   cachehits: 50917   cachemisses: 101082\n",
      "2020-08-01 18:44:41,856 INFO     total: 153000   cachehits: 51278   cachemisses: 101721\n",
      "2020-08-01 18:47:51,643 INFO     total: 154000   cachehits: 51643   cachemisses: 102356\n",
      "2020-08-01 18:51:23,175 INFO     total: 155000   cachehits: 51936   cachemisses: 103063\n",
      "2020-08-01 18:54:28,094 INFO     total: 156000   cachehits: 52313   cachemisses: 103686\n",
      "2020-08-01 18:57:12,911 INFO     total: 157000   cachehits: 52761   cachemisses: 104238\n",
      "2020-08-01 19:00:07,451 INFO     total: 158000   cachehits: 53180   cachemisses: 104819\n",
      "2020-08-01 19:03:10,141 INFO     total: 159000   cachehits: 53566   cachemisses: 105433\n",
      "2020-08-01 19:06:10,474 INFO     total: 160000   cachehits: 53959   cachemisses: 106040\n",
      "2020-08-01 19:08:53,694 INFO     total: 161000   cachehits: 54411   cachemisses: 106588\n",
      "2020-08-01 19:11:40,021 INFO     total: 162000   cachehits: 54856   cachemisses: 107143\n",
      "2020-08-01 19:14:50,308 INFO     total: 163000   cachehits: 55202   cachemisses: 107797\n",
      "2020-08-01 19:17:23,908 INFO     total: 164000   cachehits: 55672   cachemisses: 108327\n",
      "2020-08-01 19:20:18,957 INFO     total: 165000   cachehits: 56070   cachemisses: 108929\n",
      "2020-08-01 19:23:27,700 INFO     total: 166000   cachehits: 56416   cachemisses: 109583\n",
      "2020-08-01 19:26:02,823 INFO     total: 167000   cachehits: 56889   cachemisses: 110110\n",
      "2020-08-01 19:29:41,601 INFO     total: 168000   cachehits: 57145   cachemisses: 110854\n",
      "2020-08-01 19:31:54,661 INFO     total: 169000   cachehits: 57691   cachemisses: 111308\n",
      "2020-08-01 19:35:38,651 INFO     total: 170000   cachehits: 57928   cachemisses: 112071\n",
      "2020-08-01 19:38:45,010 INFO     total: 171000   cachehits: 58293   cachemisses: 112706\n",
      "2020-08-01 19:41:48,630 INFO     total: 172000   cachehits: 58668   cachemisses: 113331\n",
      "2020-08-01 19:44:42,722 INFO     total: 173000   cachehits: 59076   cachemisses: 113923\n",
      "2020-08-01 19:47:23,643 INFO     total: 174000   cachehits: 59529   cachemisses: 114470\n",
      "2020-08-01 19:50:06,361 INFO     total: 175000   cachehits: 59974   cachemisses: 115025\n",
      "2020-08-01 19:52:49,601 INFO     total: 176000   cachehits: 60423   cachemisses: 115576\n",
      "2020-08-01 19:55:43,384 INFO     total: 177000   cachehits: 60833   cachemisses: 116166\n",
      "2020-08-01 19:57:56,407 INFO     total: 178000   cachehits: 61378   cachemisses: 116621\n",
      "2020-08-01 20:00:33,687 INFO     total: 179000   cachehits: 61843   cachemisses: 117156\n",
      "2020-08-01 20:03:25,524 INFO     total: 180000   cachehits: 62263   cachemisses: 117736\n",
      "2020-08-01 20:05:44,608 INFO     total: 181000   cachehits: 62789   cachemisses: 118210\n",
      "2020-08-01 20:08:13,949 INFO     total: 182000   cachehits: 63282   cachemisses: 118717\n",
      "2020-08-01 20:10:13,235 INFO     total: 183000   cachehits: 63876   cachemisses: 119123\n",
      "2020-08-01 20:12:22,519 INFO     total: 184000   cachehits: 64436   cachemisses: 119563\n",
      "2020-08-01 20:14:27,828 INFO     total: 185000   cachehits: 65010   cachemisses: 119989\n",
      "2020-08-01 20:17:13,160 INFO     total: 186000   cachehits: 65448   cachemisses: 120551\n",
      "2020-08-01 20:19:09,502 INFO     total: 187000   cachehits: 66052   cachemisses: 120947\n",
      "2020-08-01 20:21:50,308 INFO     total: 188000   cachehits: 66506   cachemisses: 121493\n",
      "2020-08-01 20:24:40,642 INFO     total: 189000   cachehits: 66923   cachemisses: 122076\n",
      "2020-08-01 20:27:22,362 INFO     total: 190000   cachehits: 67377   cachemisses: 122622\n",
      "2020-08-01 20:30:20,487 INFO     total: 191000   cachehits: 67773   cachemisses: 123226\n"
     ]
    },
    {
     "name": "stderr",
     "output_type": "stream",
     "text": [
      "2020-08-01 20:32:42,326 INFO     total: 192000   cachehits: 68290   cachemisses: 123709\n",
      "2020-08-01 20:35:04,226 INFO     total: 193000   cachehits: 68809   cachemisses: 124190\n",
      "2020-08-01 20:37:19,490 INFO     total: 194000   cachehits: 69349   cachemisses: 124650\n",
      "2020-08-01 20:39:41,378 INFO     total: 195000   cachehits: 69862   cachemisses: 125137\n",
      "2020-08-01 20:42:16,440 INFO     total: 196000   cachehits: 70335   cachemisses: 125664\n",
      "2020-08-01 20:44:31,773 INFO     total: 197000   cachehits: 70873   cachemisses: 126126\n",
      "2020-08-01 20:46:05,404 INFO     total: 198000   cachehits: 71555   cachemisses: 126444\n",
      "2020-08-01 20:47:31,912 INFO     total: 199000   cachehits: 72257   cachemisses: 126742\n"
     ]
    },
    {
     "name": "stdout",
     "output_type": "stream",
     "text": [
      "Wall time: 7h 11min 49s\n"
     ]
    },
    {
     "name": "stderr",
     "output_type": "stream",
     "text": [
      "C:\\Users\\delta\\anaconda3\\envs\\py3_7_tf\\lib\\site-packages\\ipykernel_launcher.py:1: SettingWithCopyWarning: \n",
      "A value is trying to be set on a copy of a slice from a DataFrame.\n",
      "Try using .loc[row_indexer,col_indexer] = value instead\n",
      "\n",
      "See the caveats in the documentation: https://pandas.pydata.org/pandas-docs/stable/user_guide/indexing.html#returning-a-view-versus-a-copy\n",
      "  \"\"\"Entry point for launching an IPython kernel.\n"
     ]
    }
   ],
   "source": [
    "%%time\n",
    "\n",
    "df_reduced[\"playersRankedAvgMMR\"] = df_reduced.apply(lambda x: get_players_mmr_for_row(x), axis=1)"
   ]
  },
  {
   "cell_type": "code",
   "execution_count": 30,
   "metadata": {},
   "outputs": [],
   "source": [
    "# allMMR = np.array([])\n",
    "# for i in df.index:\n",
    "#     allMMR = np.append(allMMR, df.iloc[i][\"playersRankedAvgMMR\"])"
   ]
  },
  {
   "cell_type": "code",
   "execution_count": 31,
   "metadata": {},
   "outputs": [],
   "source": [
    "# filtered = allMMR[allMMR != np.array(None)]"
   ]
  },
  {
   "cell_type": "code",
   "execution_count": 33,
   "metadata": {},
   "outputs": [
    {
     "name": "stderr",
     "output_type": "stream",
     "text": [
      "C:\\Users\\delta\\anaconda3\\envs\\py3_7_tf\\lib\\site-packages\\ipykernel_launcher.py:7: SettingWithCopyWarning: \n",
      "A value is trying to be set on a copy of a slice from a DataFrame.\n",
      "Try using .loc[row_indexer,col_indexer] = value instead\n",
      "\n",
      "See the caveats in the documentation: https://pandas.pydata.org/pandas-docs/stable/user_guide/indexing.html#returning-a-view-versus-a-copy\n",
      "  import sys\n"
     ]
    }
   ],
   "source": [
    "def build_avg_avg_mmr(playersmmr):\n",
    "    arr = np.array(playersmmr)\n",
    "    filtered = arr[arr != np.array(None)]\n",
    "    if len(filtered) == 0:\n",
    "        return None\n",
    "    return np.mean(filtered)\n",
    "df_reduced[\"avgavgMMR\"] = df_reduced[\"playersRankedAvgMMR\"].apply(build_avg_avg_mmr)"
   ]
  },
  {
   "cell_type": "code",
   "execution_count": 34,
   "metadata": {},
   "outputs": [
    {
     "data": {
      "text/plain": [
       "<matplotlib.axes._subplots.AxesSubplot at 0x1cd57b1ea88>"
      ]
     },
     "execution_count": 34,
     "metadata": {},
     "output_type": "execute_result"
    },
    {
     "data": {
      "image/png": "[encoded data removed]",
      "text/plain": [
       "<Figure size 432x288 with 1 Axes>"
      ]
     },
     "metadata": {
      "needs_background": "light"
     },
     "output_type": "display_data"
    }
   ],
   "source": [
    "df_reduced[\"avgavgMMR\"].hist()"
   ]
  },
  {
   "cell_type": "code",
   "execution_count": 35,
   "metadata": {},
   "outputs": [
    {
     "data": {
      "text/plain": [
       "<matplotlib.axes._subplots.AxesSubplot at 0x1cd57bf7048>"
      ]
     },
     "execution_count": 35,
     "metadata": {},
     "output_type": "execute_result"
    },
    {
     "data": {
      "image/png": "[encoded data removed]",
      "text/plain": [
       "<Figure size 432x288 with 1 Axes>"
      ]
     },
     "metadata": {
      "needs_background": "light"
     },
     "output_type": "display_data"
    }
   ],
   "source": [
    "df_reduced.loc[df_reduced[\"avgavgMMR\"] < 500][\"avgavgMMR\"].hist()"
   ]
  },
  {
   "cell_type": "code",
   "execution_count": 37,
   "metadata": {},
   "outputs": [
    {
     "data": {
      "text/plain": [
       "20000"
      ]
     },
     "execution_count": 37,
     "metadata": {},
     "output_type": "execute_result"
    }
   ],
   "source": [
    "len(df_reduced)"
   ]
  },
  {
   "cell_type": "code",
   "execution_count": 71,
   "metadata": {},
   "outputs": [
    {
     "data": {
      "text/plain": [
       "9167"
      ]
     },
     "execution_count": 71,
     "metadata": {},
     "output_type": "execute_result"
    }
   ],
   "source": [
    "len(df_reduced.loc[df_reduced[\"avgavgMMR\"] < 500])"
   ]
  },
  {
   "cell_type": "code",
   "execution_count": 72,
   "metadata": {},
   "outputs": [
    {
     "data": {
      "text/plain": [
       "0.45835"
      ]
     },
     "execution_count": 72,
     "metadata": {},
     "output_type": "execute_result"
    }
   ],
   "source": [
    "len(df_reduced.loc[df_reduced[\"avgavgMMR\"] < 500]) / len(df_reduced)"
   ]
  },
  {
   "cell_type": "code",
   "execution_count": 73,
   "metadata": {},
   "outputs": [],
   "source": [
    "low_avg_df = df_reduced.loc[df_reduced[\"avgavgMMR\"] < 500]"
   ]
  },
  {
   "cell_type": "code",
   "execution_count": 74,
   "metadata": {},
   "outputs": [],
   "source": [
    "def get_unique_champion_id_list():\n",
    "    all_match_participants = list(low_avg_df[\"participants\"].apply(lambda x: json.loads(x)))\n",
    "    all_match_champion_ids = map(lambda participants: [participant[\"championId\"] for participant in participants], all_match_participants)\n",
    "    flattened_champion_ids = [item for sublist in all_match_champion_ids for item in sublist]\n",
    "    return list(set(flattened_champion_ids))"
   ]
  },
  {
   "cell_type": "code",
   "execution_count": 75,
   "metadata": {},
   "outputs": [],
   "source": [
    "unique_champ_id_list = get_unique_champion_id_list()"
   ]
  },
  {
   "cell_type": "code",
   "execution_count": 76,
   "metadata": {},
   "outputs": [],
   "source": [
    "def make_team_comp_vector(team_id, participants_json, unique_champion_ids):\n",
    "    champ_id_to_vec_pos_mapping = {unique_champion_ids[i]: i for i in range(len(unique_champion_ids))}\n",
    "    vec = np.zeros(len(unique_champion_ids))\n",
    "    for participant in json.loads(participants_json):\n",
    "        if participant[\"teamId\"] != team_id:\n",
    "            continue\n",
    "        \n",
    "        vec_pos = champ_id_to_vec_pos_mapping[participant[\"championId\"]]\n",
    "        vec[vec_pos] = 1\n",
    "    return vec"
   ]
  },
  {
   "cell_type": "code",
   "execution_count": 77,
   "metadata": {},
   "outputs": [],
   "source": [
    "def make_match_vector(participants_json, unique_champ_id_list):\n",
    "    team100_vector = make_team_comp_vector(100, participants_json, unique_champ_id_list)\n",
    "    team200_vector = make_team_comp_vector(200, participants_json, unique_champ_id_list)\n",
    "    return np.concatenate((team100_vector, team200_vector))"
   ]
  },
  {
   "cell_type": "code",
   "execution_count": 78,
   "metadata": {},
   "outputs": [],
   "source": [
    "def make_match_result(teams_json):\n",
    "    # returns 1 if team100 won\n",
    "    # otherwise 0\n",
    "    team_dict = json.loads(teams_json)[0]\n",
    "    team_id = team_dict[\"teamId\"]\n",
    "    team_win = team_dict[\"win\"]\n",
    "    if team_id == 100:\n",
    "        return 1 if team_win == \"Win\" else 0\n",
    "    if team_id == 200:\n",
    "        return 0 if team_win == \"Win\" else 1"
   ]
  },
  {
   "cell_type": "code",
   "execution_count": 79,
   "metadata": {},
   "outputs": [
    {
     "name": "stdout",
     "output_type": "stream",
     "text": [
      "(3838, 298)\n",
      "(3838,)\n"
     ]
    }
   ],
   "source": [
    "X = []\n",
    "y = []\n",
    "for i in low_avg_df.index:\n",
    "    try:\n",
    "        participants_json = low_avg_df.iloc[i][\"participants\"]\n",
    "        teams_json = low_avg_df.iloc[i][\"teams\"]\n",
    "    except IndexError:\n",
    "        continue\n",
    "        \n",
    "    X.append(make_match_vector(participants_json, unique_champ_id_list))\n",
    "    y.append(make_match_result(teams_json))\n",
    "    \n",
    "X = np.array(X)\n",
    "y = np.array(y)\n",
    "\n",
    "print(X.shape)\n",
    "print(y.shape)"
   ]
  },
  {
   "cell_type": "code",
   "execution_count": 80,
   "metadata": {},
   "outputs": [],
   "source": [
    "X_train, X_test, y_train, y_test = train_test_split(X, y, test_size=0.2, random_state=9994)"
   ]
  },
  {
   "cell_type": "code",
   "execution_count": 81,
   "metadata": {},
   "outputs": [
    {
     "data": {
      "text/plain": [
       "3070"
      ]
     },
     "execution_count": 81,
     "metadata": {},
     "output_type": "execute_result"
    }
   ],
   "source": [
    "len(X_train[:,0])"
   ]
  },
  {
   "cell_type": "code",
   "execution_count": 82,
   "metadata": {},
   "outputs": [
    {
     "data": {
      "text/plain": [
       "298"
      ]
     },
     "execution_count": 82,
     "metadata": {},
     "output_type": "execute_result"
    }
   ],
   "source": [
    "len(X_train[1,:])"
   ]
  },
  {
   "cell_type": "code",
   "execution_count": 83,
   "metadata": {},
   "outputs": [
    {
     "data": {
      "text/plain": [
       "LogisticRegression(n_jobs=10)"
      ]
     },
     "execution_count": 83,
     "metadata": {},
     "output_type": "execute_result"
    }
   ],
   "source": [
    "logreg_class = LogisticRegression(n_jobs=10)\n",
    "logreg_class.fit(X_train, y_train)"
   ]
  },
  {
   "cell_type": "code",
   "execution_count": 84,
   "metadata": {},
   "outputs": [
    {
     "data": {
      "text/plain": [
       "0.6550488599348534"
      ]
     },
     "execution_count": 84,
     "metadata": {},
     "output_type": "execute_result"
    }
   ],
   "source": [
    "logreg_class.score(X_train, y_train)"
   ]
  },
  {
   "cell_type": "code",
   "execution_count": 85,
   "metadata": {},
   "outputs": [
    {
     "data": {
      "text/plain": [
       "0.5364583333333334"
      ]
     },
     "execution_count": 85,
     "metadata": {},
     "output_type": "execute_result"
    }
   ],
   "source": [
    "logreg_class.score(X_test, y_test)"
   ]
  },
  {
   "cell_type": "code",
   "execution_count": 86,
   "metadata": {},
   "outputs": [
    {
     "name": "stdout",
     "output_type": "stream",
     "text": [
      "Epoch 1/10\n",
      "3070/3070 [==============================] - 2s 514us/sample - loss: 0.6902 - acc: 0.5309\n",
      "Epoch 2/10\n",
      "3070/3070 [==============================] - 1s 386us/sample - loss: 0.6545 - acc: 0.6339\n",
      "Epoch 3/10\n",
      "3070/3070 [==============================] - 1s 422us/sample - loss: 0.5923 - acc: 0.6977\n",
      "Epoch 4/10\n",
      "3070/3070 [==============================] - 1s 410us/sample - loss: 0.5125 - acc: 0.7622\n",
      "Epoch 5/10\n",
      "3070/3070 [==============================] - 1s 414us/sample - loss: 0.4101 - acc: 0.8336\n",
      "Epoch 6/10\n",
      "3070/3070 [==============================] - 1s 434us/sample - loss: 0.3063 - acc: 0.8850\n",
      "Epoch 7/10\n",
      "3070/3070 [==============================] - 1s 412us/sample - loss: 0.2060 - acc: 0.9362\n",
      "Epoch 8/10\n",
      "3070/3070 [==============================] - 1s 408us/sample - loss: 0.1285 - acc: 0.9687\n",
      "Epoch 9/10\n",
      "3070/3070 [==============================] - 2s 636us/sample - loss: 0.0733 - acc: 0.9827\n",
      "Epoch 10/10\n",
      "3070/3070 [==============================] - 2s 655us/sample - loss: 0.0410 - acc: 0.9925\n",
      "768/768 [==============================] - 0s 194us/sample - loss: 1.8778 - acc: 0.5469\n"
     ]
    },
    {
     "data": {
      "text/plain": [
       "[1.8777858763933182, 0.546875]"
      ]
     },
     "execution_count": 86,
     "metadata": {},
     "output_type": "execute_result"
    }
   ],
   "source": [
    "inputs2 = keras.Input(shape=(len(unique_champ_id_list)*2,))\n",
    "x2 = layers.Dense(32, activation=\"relu\")(inputs2)\n",
    "x2 = layers.Dense(16, activation=\"relu\")(x2)\n",
    "x2 = layers.Dense(8, activation=\"relu\")(x2)\n",
    "output2 = layers.Dense(1, activation='sigmoid')(x2)\n",
    "model2 = keras.Model(inputs=inputs2, outputs=output2)\n",
    "model2.compile(loss='binary_crossentropy', optimizer=\"adam\", metrics=[\"accuracy\"])\n",
    "model2.fit(X_train, y_train, epochs=10, batch_size=8)\n",
    "model2.evaluate(X_test, y_test)"
   ]
  },
  {
   "cell_type": "code",
   "execution_count": 53,
   "metadata": {},
   "outputs": [
    {
     "name": "stdout",
     "output_type": "stream",
     "text": [
      "Epoch 1/40\n",
      "3070/3070 [==============================] - 1s 402us/sample - loss: 0.6932 - acc: 0.5101\n",
      "Epoch 2/40\n",
      "3070/3070 [==============================] - 1s 326us/sample - loss: 0.6678 - acc: 0.6186\n",
      "Epoch 3/40\n",
      "3070/3070 [==============================] - 1s 285us/sample - loss: 0.5786 - acc: 0.7023\n",
      "Epoch 4/40\n",
      "3070/3070 [==============================] - 1s 286us/sample - loss: 0.4213 - acc: 0.8218\n",
      "Epoch 5/40\n",
      "3070/3070 [==============================] - 1s 264us/sample - loss: 0.2416 - acc: 0.9098\n",
      "Epoch 6/40\n",
      "3070/3070 [==============================] - 1s 280us/sample - loss: 0.1070 - acc: 0.9704\n",
      "Epoch 7/40\n",
      "3070/3070 [==============================] - 1s 391us/sample - loss: 0.0433 - acc: 0.9899\n",
      "Epoch 8/40\n",
      "3070/3070 [==============================] - 1s 279us/sample - loss: 0.0127 - acc: 0.9974\n",
      "Epoch 9/40\n",
      "3070/3070 [==============================] - 1s 305us/sample - loss: 0.0038 - acc: 0.9997\n",
      "Epoch 10/40\n",
      "3070/3070 [==============================] - 1s 269us/sample - loss: 0.0015 - acc: 1.0000\n",
      "Epoch 11/40\n",
      "3070/3070 [==============================] - 1s 258us/sample - loss: 0.0010 - acc: 1.0000\n",
      "Epoch 12/40\n",
      "3070/3070 [==============================] - 1s 314us/sample - loss: 7.2156e-04 - acc: 1.0000\n",
      "Epoch 13/40\n",
      "3070/3070 [==============================] - 1s 301us/sample - loss: 5.4265e-04 - acc: 1.0000\n",
      "Epoch 14/40\n",
      "3070/3070 [==============================] - 2s 526us/sample - loss: 4.2061e-04 - acc: 1.0000\n",
      "Epoch 15/40\n",
      "3070/3070 [==============================] - 1s 285us/sample - loss: 3.3287e-04 - acc: 1.0000\n",
      "Epoch 16/40\n",
      "3070/3070 [==============================] - 1s 482us/sample - loss: 2.6800e-04 - acc: 1.0000\n",
      "Epoch 17/40\n",
      "3070/3070 [==============================] - 1s 329us/sample - loss: 2.1955e-04 - acc: 1.0000\n",
      "Epoch 18/40\n",
      "3070/3070 [==============================] - 1s 281us/sample - loss: 1.8131e-04 - acc: 1.0000\n",
      "Epoch 19/40\n",
      "3070/3070 [==============================] - 1s 350us/sample - loss: 1.5136e-04 - acc: 1.0000\n",
      "Epoch 20/40\n",
      "3070/3070 [==============================] - 1s 271us/sample - loss: 1.2754e-04 - acc: 1.0000\n",
      "Epoch 21/40\n",
      "3070/3070 [==============================] - 1s 271us/sample - loss: 1.0778e-04 - acc: 1.0000\n",
      "Epoch 22/40\n",
      "3070/3070 [==============================] - 1s 329us/sample - loss: 9.1644e-05 - acc: 1.0000\n",
      "Epoch 23/40\n",
      "3070/3070 [==============================] - 1s 258us/sample - loss: 7.8334e-05 - acc: 1.0000\n",
      "Epoch 24/40\n",
      "3070/3070 [==============================] - 1s 291us/sample - loss: 6.7427e-05 - acc: 1.0000\n",
      "Epoch 25/40\n",
      "3070/3070 [==============================] - 1s 297us/sample - loss: 5.7987e-05 - acc: 1.0000\n",
      "Epoch 26/40\n",
      "3070/3070 [==============================] - 1s 370us/sample - loss: 5.0058e-05 - acc: 1.0000\n",
      "Epoch 27/40\n",
      "3070/3070 [==============================] - 1s 309us/sample - loss: 4.3379e-05 - acc: 1.0000\n",
      "Epoch 28/40\n",
      "3070/3070 [==============================] - 1s 279us/sample - loss: 3.7732e-05 - acc: 1.0000s - loss: 3.9861e-05 - acc: \n",
      "Epoch 29/40\n",
      "3070/3070 [==============================] - 1s 330us/sample - loss: 3.2838e-05 - acc: 1.0000\n",
      "Epoch 30/40\n",
      "3070/3070 [==============================] - 1s 291us/sample - loss: 2.8619e-05 - acc: 1.0000\n",
      "Epoch 31/40\n",
      "3070/3070 [==============================] - 1s 329us/sample - loss: 2.5076e-05 - acc: 1.0000\n",
      "Epoch 32/40\n",
      "3070/3070 [==============================] - 1s 370us/sample - loss: 2.1899e-05 - acc: 1.0000\n",
      "Epoch 33/40\n",
      "3070/3070 [==============================] - 1s 268us/sample - loss: 1.9180e-05 - acc: 1.0000\n",
      "Epoch 34/40\n",
      "3070/3070 [==============================] - 1s 307us/sample - loss: 1.6830e-05 - acc: 1.0000\n",
      "Epoch 35/40\n",
      "3070/3070 [==============================] - 1s 283us/sample - loss: 1.4782e-05 - acc: 1.0000\n",
      "Epoch 36/40\n",
      "3070/3070 [==============================] - 1s 269us/sample - loss: 1.2996e-05 - acc: 1.0000\n",
      "Epoch 37/40\n",
      "3070/3070 [==============================] - 1s 301us/sample - loss: 1.1429e-05 - acc: 1.0000\n",
      "Epoch 38/40\n",
      "3070/3070 [==============================] - 1s 279us/sample - loss: 1.0065e-05 - acc: 1.0000\n",
      "Epoch 39/40\n",
      "3070/3070 [==============================] - 1s 335us/sample - loss: 8.8666e-06 - acc: 1.0000\n",
      "Epoch 40/40\n",
      "3070/3070 [==============================] - 1s 337us/sample - loss: 7.8173e-06 - acc: 1.0000\n",
      "768/768 [==============================] - 0s 180us/sample - loss: 4.8149 - acc: 0.5130\n"
     ]
    },
    {
     "data": {
      "text/plain": [
       "[4.8149474163850146, 0.5130208]"
      ]
     },
     "execution_count": 53,
     "metadata": {},
     "output_type": "execute_result"
    }
   ],
   "source": [
    "inputs3 = keras.Input(shape=(len(unique_champ_id_list)*2,))\n",
    "x3 = layers.Dense(64, activation=\"relu\")(inputs3)\n",
    "x3 = layers.Dense(32, activation=\"relu\")(x3)\n",
    "x3 = layers.Dense(32, activation=\"relu\")(x3)\n",
    "x3 = layers.Dense(16, activation=\"relu\")(x3)\n",
    "output3 = layers.Dense(1, activation='sigmoid')(x3)\n",
    "model3 = keras.Model(inputs=inputs3, outputs=output3)\n",
    "model3.compile(loss='binary_crossentropy', optimizer=\"adam\", metrics=[\"accuracy\"])\n",
    "model3.fit(X_train, y_train, epochs=40, batch_size=15)\n",
    "model3.evaluate(X_test, y_test)"
   ]
  },
  {
   "cell_type": "code",
   "execution_count": null,
   "metadata": {},
   "outputs": [],
   "source": []
  }
 ],
 "metadata": {
  "kernelspec": {
   "display_name": "Python 3",
   "language": "python",
   "name": "python3"
  },
  "language_info": {
   "codemirror_mode": {
    "name": "ipython",
    "version": 3
   },
   "file_extension": ".py",
   "mimetype": "text/x-python",
   "name": "python",
   "nbconvert_exporter": "python",
   "pygments_lexer": "ipython3",
   "version": "3.7.7"
  }
 },
 "nbformat": 4,
 "nbformat_minor": 4
}
