{
 "cells": [
  {
   "cell_type": "code",
   "execution_count": 1,
   "metadata": {},
   "outputs": [],
   "source": [
    "import pandas as pd\n",
    "import matplotlib.pyplot as plt\n",
    "import numpy as np\n",
    "from sklearn.linear_model import LinearRegression"
   ]
  },
  {
   "cell_type": "code",
   "execution_count": 2,
   "metadata": {},
   "outputs": [],
   "source": [
    "logs1 = \"\"\"\n",
    "2020-08-01 12:29:52,481 INFO     cache hit: 100\n",
    "2020-08-01 12:29:54,765 INFO     on player 1000\n",
    "2020-08-01 12:29:55,166 INFO     cache hit: 200\n",
    "2020-08-01 12:30:05,838 INFO     cache hit: 300\n",
    "2020-08-01 12:30:09,157 INFO     on player 2000\n",
    "2020-08-01 12:30:15,365 INFO     cache hit: 400\n",
    "2020-08-01 12:30:33,277 INFO     on player 3000\n",
    "2020-08-01 12:30:35,041 INFO     cache hit: 500\n",
    "2020-08-01 12:30:50,280 INFO     cache hit: 600\n",
    "2020-08-01 12:30:59,802 INFO     on player 4000\n",
    "2020-08-01 12:31:03,364 INFO     cache hit: 700\n",
    "2020-08-01 12:31:18,192 INFO     cache hit: 800\n",
    "2020-08-01 12:31:26,895 INFO     on player 5000\n",
    "2020-08-01 12:31:32,822 INFO     cache hit: 900\n",
    "2020-08-01 12:31:48,404 INFO     cache hit: 1000\n",
    "2020-08-01 12:31:59,611 INFO     on player 6000\n",
    "2020-08-01 12:32:03,941 INFO     cache hit: 1100\n",
    "2020-08-01 12:32:20,354 INFO     cache hit: 1200\n",
    "2020-08-01 12:32:50,506 INFO     on player 7000\n",
    "2020-08-01 12:32:58,009 INFO     cache hit: 1300\n",
    "2020-08-01 12:33:36,670 INFO     cache hit: 1400\n",
    "2020-08-01 12:34:00,359 INFO     cache hit: 1500\n",
    "2020-08-01 12:34:01,578 INFO     on player 8000\n",
    "2020-08-01 12:34:12,467 INFO     cache hit: 1600\n",
    "2020-08-01 12:34:27,981 INFO     cache hit: 1700\n",
    "2020-08-01 12:34:40,542 INFO     on player 9000\n",
    "2020-08-01 12:34:41,307 INFO     cache hit: 1800\n",
    "2020-08-01 12:34:55,227 INFO     cache hit: 1900\n",
    "2020-08-01 12:35:11,049 INFO     cache hit: 2000\n",
    "2020-08-01 12:35:27,159 INFO     cache hit: 2100\n",
    "2020-08-01 12:35:27,506 INFO     on player 10000\n",
    "2020-08-01 12:35:52,645 INFO     cache hit: 2200\n",
    "2020-08-01 12:36:24,860 INFO     cache hit: 2300\n",
    "2020-08-01 12:36:36,200 INFO     on player 11000\n",
    "2020-08-01 12:36:57,875 INFO     cache hit: 2400\n",
    "2020-08-01 12:37:18,935 INFO     cache hit: 2500\n",
    "2020-08-01 12:37:29,425 INFO     cache hit: 2600\n",
    "2020-08-01 12:37:41,311 INFO     on player 12000\n",
    "2020-08-01 12:37:45,255 INFO     cache hit: 2700\n",
    "2020-08-01 12:38:00,267 INFO     cache hit: 2800\n",
    "2020-08-01 12:38:34,770 INFO     cache hit: 2900\n",
    "2020-08-01 12:38:40,697 INFO     on player 13000\n",
    "2020-08-01 12:38:54,822 INFO     cache hit: 3000\n",
    "2020-08-01 12:39:17,405 INFO     cache hit: 3100\n",
    "2020-08-01 12:39:39,175 INFO     on player 14000\n",
    "2020-08-01 12:39:52,016 INFO     cache hit: 3200\n",
    "2020-08-01 12:40:29,898 INFO     cache hit: 3300\n",
    "2020-08-01 12:40:49,701 INFO     on player 15000\n",
    "2020-08-01 12:40:50,365 INFO     cache hit: 3400\n",
    "2020-08-01 12:41:13,844 INFO     cache hit: 3500\n",
    "2020-08-01 12:41:28,474 INFO     cache hit: 3600\n",
    "2020-08-01 12:41:38,838 INFO     cache hit: 3700\n",
    "2020-08-01 12:41:52,978 INFO     cache hit: 3800\n",
    "2020-08-01 12:41:57,459 INFO     on player 16000\n",
    "2020-08-01 12:42:13,849 INFO     cache hit: 3900\n",
    "2020-08-01 12:43:05,070 INFO     cache hit: 4000\n",
    "2020-08-01 12:43:32,720 INFO     on player 17000\n",
    "2020-08-01 12:43:39,238 INFO     cache hit: 4100\n",
    "2020-08-01 12:44:05,558 INFO     cache hit: 4200\n",
    "2020-08-01 12:44:26,832 INFO     cache hit: 4300\n",
    "2020-08-01 12:44:45,606 INFO     cache hit: 4400\n",
    "2020-08-01 12:44:47,877 INFO     on player 18000\n",
    "2020-08-01 12:45:04,039 INFO     cache hit: 4500\n",
    "2020-08-01 12:45:22,430 INFO     cache hit: 4600\n",
    "2020-08-01 12:45:36,326 INFO     cache hit: 4700\n",
    "2020-08-01 12:46:06,404 INFO     on player 19000\n",
    "2020-08-01 12:46:10,139 INFO     cache hit: 4800\n",
    "2020-08-01 12:46:35,009 INFO     cache hit: 4900\n",
    "2020-08-01 12:46:52,277 INFO     cache hit: 5000\n",
    "2020-08-01 12:47:08,228 INFO     cache hit: 5100\n",
    "2020-08-01 12:47:23,258 INFO     cache hit: 5200\n",
    "2020-08-01 12:47:26,976 INFO     on player 20000\n",
    "2020-08-01 12:47:32,340 INFO     cache hit: 5300\n",
    "2020-08-01 12:47:53,563 INFO     cache hit: 5400\n",
    "2020-08-01 12:48:34,567 INFO     cache hit: 5500\n",
    "2020-08-01 12:49:19,915 INFO     on player 21000\n",
    "2020-08-01 12:49:31,010 INFO     cache hit: 5600\n",
    "2020-08-01 12:50:00,126 INFO     cache hit: 5700\n",
    "2020-08-01 12:50:16,134 INFO     cache hit: 5800\n",
    "2020-08-01 12:50:35,028 INFO     cache hit: 5900\n",
    "2020-08-01 12:50:55,629 INFO     cache hit: 6000\n",
    "2020-08-01 12:51:02,096 INFO     on player 22000\n",
    "2020-08-01 12:51:18,900 INFO     cache hit: 6100\n",
    "2020-08-01 12:51:42,813 INFO     cache hit: 6200\n",
    "2020-08-01 12:52:10,982 INFO     cache hit: 6300\n",
    "2020-08-01 12:52:29,786 INFO     on player 23000\n",
    "2020-08-01 12:52:32,257 INFO     cache hit: 6400\n",
    "2020-08-01 12:52:44,094 INFO     cache hit: 6500\n",
    "2020-08-01 12:53:04,804 INFO     cache hit: 6600\n",
    "2020-08-01 12:53:24,978 INFO     cache hit: 6700\n",
    "2020-08-01 12:53:44,288 INFO     cache hit: 6800\n",
    "2020-08-01 12:54:01,940 INFO     cache hit: 6900\n",
    "2020-08-01 12:54:04,302 INFO     on player 24000\n",
    "2020-08-01 12:54:19,970 INFO     cache hit: 7000\n",
    "2020-08-01 12:55:25,128 INFO     cache hit: 7100\n",
    "2020-08-01 12:56:15,769 INFO     on player 25000\n",
    "2020-08-01 12:56:27,519 INFO     cache hit: 7200\n",
    "2020-08-01 12:56:57,240 INFO     cache hit: 7300\n",
    "2020-08-01 12:57:31,958 INFO     cache hit: 7400\n",
    "2020-08-01 12:57:48,622 INFO     cache hit: 7500\n",
    "2020-08-01 12:58:09,542 INFO     on player 26000\n",
    "2020-08-01 12:58:13,823 INFO     cache hit: 7600\n",
    "2020-08-01 12:58:46,328 INFO     cache hit: 7700\n",
    "2020-08-01 12:59:07,960 INFO     cache hit: 7800\n",
    "2020-08-01 12:59:20,311 INFO     cache hit: 7900\n",
    "2020-08-01 12:59:32,653 INFO     cache hit: 8000\n",
    "2020-08-01 12:59:57,282 INFO     cache hit: 8100\n",
    "2020-08-01 13:00:13,078 INFO     cache hit: 8200\n",
    "2020-08-01 13:00:15,985 INFO     on player 27000\n",
    "2020-08-01 13:00:33,756 INFO     cache hit: 8300\n",
    "2020-08-01 13:01:32,136 INFO     cache hit: 8400\n",
    "2020-08-01 13:02:00,023 INFO     cache hit: 8500\n",
    "2020-08-01 13:02:18,131 INFO     on player 28000\n",
    "2020-08-01 13:02:22,494 INFO     cache hit: 8600\n",
    "2020-08-01 13:02:52,043 INFO     cache hit: 8700\n",
    "2020-08-01 13:03:47,781 INFO     cache hit: 8800\n",
    "2020-08-01 13:04:35,141 INFO     on player 29000\n",
    "2020-08-01 13:04:39,151 INFO     cache hit: 8900\n",
    "2020-08-01 13:04:53,483 INFO     cache hit: 9000\n",
    "2020-08-01 13:05:05,098 INFO     cache hit: 9100\n",
    "2020-08-01 13:05:16,950 INFO     cache hit: 9200\n",
    "2020-08-01 13:05:34,814 INFO     cache hit: 9300\n",
    "2020-08-01 13:06:00,946 INFO     cache hit: 9400\n",
    "2020-08-01 13:06:17,503 INFO     cache hit: 9500\n",
    "2020-08-01 13:06:34,388 INFO     on player 30000\n",
    "2020-08-01 13:06:44,726 INFO     cache hit: 9600\n",
    "2020-08-01 13:07:19,933 INFO     cache hit: 9700\n",
    "2020-08-01 13:08:05,716 INFO     cache hit: 9800\n",
    "2020-08-01 13:08:38,984 INFO     on player 31000\n",
    "2020-08-01 13:08:40,204 INFO     cache hit: 9900\n",
    "2020-08-01 13:09:42,828 INFO     cache hit: 10000\n",
    "2020-08-01 13:10:40,160 INFO     cache hit: 10100\n",
    "2020-08-01 13:11:05,437 INFO     on player 32000\n",
    "2020-08-01 13:11:12,336 INFO     cache hit: 10200\n",
    "2020-08-01 13:11:38,203 INFO     cache hit: 10300\n",
    "2020-08-01 13:12:02,397 INFO     cache hit: 10400\n",
    "2020-08-01 13:12:22,435 INFO     cache hit: 10500\n",
    "2020-08-01 13:12:48,123 INFO     cache hit: 10600\n",
    "2020-08-01 13:13:06,217 INFO     on player 33000\n",
    "2020-08-01 13:13:16,180 INFO     cache hit: 10700\n",
    "2020-08-01 13:13:33,319 INFO     cache hit: 10800\n",
    "2020-08-01 13:14:01,042 INFO     cache hit: 10900\n",
    "2020-08-01 13:14:25,880 INFO     cache hit: 11000\n",
    "2020-08-01 13:14:56,107 INFO     cache hit: 11100\n",
    "2020-08-01 13:15:09,919 INFO     cache hit: 11200\n",
    "2020-08-01 13:15:14,175 INFO     on player 34000\n",
    "2020-08-01 13:15:30,217 INFO     cache hit: 11300\n",
    "2020-08-01 13:15:53,376 INFO     cache hit: 11400\n",
    "2020-08-01 13:16:40,350 INFO     cache hit: 11500\n",
    "2020-08-01 13:17:21,650 INFO     on player 35000\n",
    "2020-08-01 13:17:35,153 INFO     cache hit: 11600\n",
    "2020-08-01 13:18:11,789 INFO     cache hit: 11700\n",
    "2020-08-01 13:19:06,616 INFO     cache hit: 11800\n",
    "2020-08-01 13:19:29,973 INFO     on player 36000\n",
    "2020-08-01 13:19:49,260 INFO     cache hit: 11900\n",
    "2020-08-01 13:20:34,347 INFO     cache hit: 12000\n",
    "2020-08-01 13:21:04,698 INFO     cache hit: 12100\n",
    "2020-08-01 13:21:28,198 INFO     cache hit: 12200\n",
    "2020-08-01 13:21:42,332 INFO     on player 37000\n",
    "2020-08-01 13:21:48,449 INFO     cache hit: 12300\n",
    "2020-08-01 13:22:11,158 INFO     cache hit: 12400\n",
    "2020-08-01 13:22:44,752 INFO     cache hit: 12500\n",
    "2020-08-01 13:23:01,111 INFO     cache hit: 12600\n",
    "2020-08-01 13:23:30,149 INFO     cache hit: 12700\n",
    "2020-08-01 13:23:57,285 INFO     on player 38000\n",
    "2020-08-01 13:24:08,857 INFO     cache hit: 12800\n",
    "2020-08-01 13:24:33,553 INFO     cache hit: 12900\n",
    "2020-08-01 13:25:02,673 INFO     cache hit: 13000\n",
    "\n",
    "\"\"\""
   ]
  },
  {
   "cell_type": "code",
   "execution_count": 3,
   "metadata": {},
   "outputs": [],
   "source": [
    "logs = logs1"
   ]
  },
  {
   "cell_type": "code",
   "execution_count": 4,
   "metadata": {},
   "outputs": [],
   "source": [
    "lines = logs.strip().split(\"\\n\")"
   ]
  },
  {
   "cell_type": "code",
   "execution_count": 5,
   "metadata": {},
   "outputs": [],
   "source": [
    "split = list(map(lambda x: x.split(), lines))"
   ]
  },
  {
   "cell_type": "code",
   "execution_count": 6,
   "metadata": {},
   "outputs": [],
   "source": [
    "timestamps = list(map(lambda x: x[0] + \" \" + x[1], split))"
   ]
  },
  {
   "cell_type": "code",
   "execution_count": 7,
   "metadata": {},
   "outputs": [],
   "source": [
    "levels = list(map(lambda x: x[2], split))"
   ]
  },
  {
   "cell_type": "code",
   "execution_count": 8,
   "metadata": {},
   "outputs": [],
   "source": [
    "messages = list(map(lambda x: \" \".join(x[3:]), split))"
   ]
  },
  {
   "cell_type": "code",
   "execution_count": 9,
   "metadata": {},
   "outputs": [],
   "source": [
    "df = pd.DataFrame()"
   ]
  },
  {
   "cell_type": "code",
   "execution_count": 10,
   "metadata": {},
   "outputs": [],
   "source": [
    "df[\"timestamp\"] = timestamps\n",
    "df[\"level\"] = levels\n",
    "df[\"message\"] = messages"
   ]
  },
  {
   "cell_type": "code",
   "execution_count": 11,
   "metadata": {},
   "outputs": [
    {
     "data": {
      "text/html": [
       "<div>\n",
       "<style scoped>\n",
       "    .dataframe tbody tr th:only-of-type {\n",
       "        vertical-align: middle;\n",
       "    }\n",
       "\n",
       "    .dataframe tbody tr th {\n",
       "        vertical-align: top;\n",
       "    }\n",
       "\n",
       "    .dataframe thead th {\n",
       "        text-align: right;\n",
       "    }\n",
       "</style>\n",
       "<table border=\"1\" class=\"dataframe\">\n",
       "  <thead>\n",
       "    <tr style=\"text-align: right;\">\n",
       "      <th></th>\n",
       "      <th>timestamp</th>\n",
       "      <th>level</th>\n",
       "      <th>message</th>\n",
       "    </tr>\n",
       "  </thead>\n",
       "  <tbody>\n",
       "    <tr>\n",
       "      <th>0</th>\n",
       "      <td>2020-08-01 12:29:52,481</td>\n",
       "      <td>INFO</td>\n",
       "      <td>cache hit: 100</td>\n",
       "    </tr>\n",
       "    <tr>\n",
       "      <th>1</th>\n",
       "      <td>2020-08-01 12:29:54,765</td>\n",
       "      <td>INFO</td>\n",
       "      <td>on player 1000</td>\n",
       "    </tr>\n",
       "    <tr>\n",
       "      <th>2</th>\n",
       "      <td>2020-08-01 12:29:55,166</td>\n",
       "      <td>INFO</td>\n",
       "      <td>cache hit: 200</td>\n",
       "    </tr>\n",
       "  </tbody>\n",
       "</table>\n",
       "</div>"
      ],
      "text/plain": [
       "                 timestamp level         message\n",
       "0  2020-08-01 12:29:52,481  INFO  cache hit: 100\n",
       "1  2020-08-01 12:29:54,765  INFO  on player 1000\n",
       "2  2020-08-01 12:29:55,166  INFO  cache hit: 200"
      ]
     },
     "execution_count": 11,
     "metadata": {},
     "output_type": "execute_result"
    }
   ],
   "source": [
    "df.head(3)"
   ]
  },
  {
   "cell_type": "code",
   "execution_count": 12,
   "metadata": {},
   "outputs": [],
   "source": [
    "df[\"timestampDT\"] = pd.to_datetime(df[\"timestamp\"])"
   ]
  },
  {
   "cell_type": "code",
   "execution_count": 13,
   "metadata": {},
   "outputs": [
    {
     "data": {
      "text/html": [
       "<div>\n",
       "<style scoped>\n",
       "    .dataframe tbody tr th:only-of-type {\n",
       "        vertical-align: middle;\n",
       "    }\n",
       "\n",
       "    .dataframe tbody tr th {\n",
       "        vertical-align: top;\n",
       "    }\n",
       "\n",
       "    .dataframe thead th {\n",
       "        text-align: right;\n",
       "    }\n",
       "</style>\n",
       "<table border=\"1\" class=\"dataframe\">\n",
       "  <thead>\n",
       "    <tr style=\"text-align: right;\">\n",
       "      <th></th>\n",
       "      <th>timestamp</th>\n",
       "      <th>level</th>\n",
       "      <th>message</th>\n",
       "      <th>timestampDT</th>\n",
       "    </tr>\n",
       "  </thead>\n",
       "  <tbody>\n",
       "    <tr>\n",
       "      <th>0</th>\n",
       "      <td>2020-08-01 12:29:52,481</td>\n",
       "      <td>INFO</td>\n",
       "      <td>cache hit: 100</td>\n",
       "      <td>2020-08-01 12:29:52.481</td>\n",
       "    </tr>\n",
       "    <tr>\n",
       "      <th>1</th>\n",
       "      <td>2020-08-01 12:29:54,765</td>\n",
       "      <td>INFO</td>\n",
       "      <td>on player 1000</td>\n",
       "      <td>2020-08-01 12:29:54.765</td>\n",
       "    </tr>\n",
       "    <tr>\n",
       "      <th>2</th>\n",
       "      <td>2020-08-01 12:29:55,166</td>\n",
       "      <td>INFO</td>\n",
       "      <td>cache hit: 200</td>\n",
       "      <td>2020-08-01 12:29:55.166</td>\n",
       "    </tr>\n",
       "  </tbody>\n",
       "</table>\n",
       "</div>"
      ],
      "text/plain": [
       "                 timestamp level         message             timestampDT\n",
       "0  2020-08-01 12:29:52,481  INFO  cache hit: 100 2020-08-01 12:29:52.481\n",
       "1  2020-08-01 12:29:54,765  INFO  on player 1000 2020-08-01 12:29:54.765\n",
       "2  2020-08-01 12:29:55,166  INFO  cache hit: 200 2020-08-01 12:29:55.166"
      ]
     },
     "execution_count": 13,
     "metadata": {},
     "output_type": "execute_result"
    }
   ],
   "source": [
    "df.head(3)"
   ]
  },
  {
   "cell_type": "code",
   "execution_count": 14,
   "metadata": {},
   "outputs": [],
   "source": [
    "df_cache = df.loc[df[\"message\"].apply(lambda x: \"cache\" in x)].copy()"
   ]
  },
  {
   "cell_type": "code",
   "execution_count": 15,
   "metadata": {},
   "outputs": [],
   "source": [
    "df_player = df.loc[df[\"message\"].apply(lambda x: \"player\" in x)].copy()"
   ]
  },
  {
   "cell_type": "code",
   "execution_count": 16,
   "metadata": {},
   "outputs": [],
   "source": [
    "df_cache[\"count\"] = df_cache[\"message\"].apply(lambda x: int(x.split()[2]))"
   ]
  },
  {
   "cell_type": "code",
   "execution_count": 17,
   "metadata": {},
   "outputs": [
    {
     "data": {
      "text/html": [
       "<div>\n",
       "<style scoped>\n",
       "    .dataframe tbody tr th:only-of-type {\n",
       "        vertical-align: middle;\n",
       "    }\n",
       "\n",
       "    .dataframe tbody tr th {\n",
       "        vertical-align: top;\n",
       "    }\n",
       "\n",
       "    .dataframe thead th {\n",
       "        text-align: right;\n",
       "    }\n",
       "</style>\n",
       "<table border=\"1\" class=\"dataframe\">\n",
       "  <thead>\n",
       "    <tr style=\"text-align: right;\">\n",
       "      <th></th>\n",
       "      <th>timestamp</th>\n",
       "      <th>level</th>\n",
       "      <th>message</th>\n",
       "      <th>timestampDT</th>\n",
       "      <th>count</th>\n",
       "    </tr>\n",
       "  </thead>\n",
       "  <tbody>\n",
       "    <tr>\n",
       "      <th>0</th>\n",
       "      <td>2020-08-01 12:29:52,481</td>\n",
       "      <td>INFO</td>\n",
       "      <td>cache hit: 100</td>\n",
       "      <td>2020-08-01 12:29:52.481</td>\n",
       "      <td>100</td>\n",
       "    </tr>\n",
       "    <tr>\n",
       "      <th>2</th>\n",
       "      <td>2020-08-01 12:29:55,166</td>\n",
       "      <td>INFO</td>\n",
       "      <td>cache hit: 200</td>\n",
       "      <td>2020-08-01 12:29:55.166</td>\n",
       "      <td>200</td>\n",
       "    </tr>\n",
       "    <tr>\n",
       "      <th>3</th>\n",
       "      <td>2020-08-01 12:30:05,838</td>\n",
       "      <td>INFO</td>\n",
       "      <td>cache hit: 300</td>\n",
       "      <td>2020-08-01 12:30:05.838</td>\n",
       "      <td>300</td>\n",
       "    </tr>\n",
       "  </tbody>\n",
       "</table>\n",
       "</div>"
      ],
      "text/plain": [
       "                 timestamp level         message             timestampDT  \\\n",
       "0  2020-08-01 12:29:52,481  INFO  cache hit: 100 2020-08-01 12:29:52.481   \n",
       "2  2020-08-01 12:29:55,166  INFO  cache hit: 200 2020-08-01 12:29:55.166   \n",
       "3  2020-08-01 12:30:05,838  INFO  cache hit: 300 2020-08-01 12:30:05.838   \n",
       "\n",
       "   count  \n",
       "0    100  \n",
       "2    200  \n",
       "3    300  "
      ]
     },
     "execution_count": 17,
     "metadata": {},
     "output_type": "execute_result"
    }
   ],
   "source": [
    "df_cache.head(3)"
   ]
  },
  {
   "cell_type": "code",
   "execution_count": 18,
   "metadata": {},
   "outputs": [],
   "source": [
    "df_player[\"count\"] = df_player[\"message\"].apply(lambda x: int(x.split()[2]))"
   ]
  },
  {
   "cell_type": "code",
   "execution_count": 19,
   "metadata": {},
   "outputs": [
    {
     "data": {
      "text/html": [
       "<div>\n",
       "<style scoped>\n",
       "    .dataframe tbody tr th:only-of-type {\n",
       "        vertical-align: middle;\n",
       "    }\n",
       "\n",
       "    .dataframe tbody tr th {\n",
       "        vertical-align: top;\n",
       "    }\n",
       "\n",
       "    .dataframe thead th {\n",
       "        text-align: right;\n",
       "    }\n",
       "</style>\n",
       "<table border=\"1\" class=\"dataframe\">\n",
       "  <thead>\n",
       "    <tr style=\"text-align: right;\">\n",
       "      <th></th>\n",
       "      <th>timestamp</th>\n",
       "      <th>level</th>\n",
       "      <th>message</th>\n",
       "      <th>timestampDT</th>\n",
       "      <th>count</th>\n",
       "    </tr>\n",
       "  </thead>\n",
       "  <tbody>\n",
       "    <tr>\n",
       "      <th>1</th>\n",
       "      <td>2020-08-01 12:29:54,765</td>\n",
       "      <td>INFO</td>\n",
       "      <td>on player 1000</td>\n",
       "      <td>2020-08-01 12:29:54.765</td>\n",
       "      <td>1000</td>\n",
       "    </tr>\n",
       "    <tr>\n",
       "      <th>4</th>\n",
       "      <td>2020-08-01 12:30:09,157</td>\n",
       "      <td>INFO</td>\n",
       "      <td>on player 2000</td>\n",
       "      <td>2020-08-01 12:30:09.157</td>\n",
       "      <td>2000</td>\n",
       "    </tr>\n",
       "    <tr>\n",
       "      <th>6</th>\n",
       "      <td>2020-08-01 12:30:33,277</td>\n",
       "      <td>INFO</td>\n",
       "      <td>on player 3000</td>\n",
       "      <td>2020-08-01 12:30:33.277</td>\n",
       "      <td>3000</td>\n",
       "    </tr>\n",
       "  </tbody>\n",
       "</table>\n",
       "</div>"
      ],
      "text/plain": [
       "                 timestamp level         message             timestampDT  \\\n",
       "1  2020-08-01 12:29:54,765  INFO  on player 1000 2020-08-01 12:29:54.765   \n",
       "4  2020-08-01 12:30:09,157  INFO  on player 2000 2020-08-01 12:30:09.157   \n",
       "6  2020-08-01 12:30:33,277  INFO  on player 3000 2020-08-01 12:30:33.277   \n",
       "\n",
       "   count  \n",
       "1   1000  \n",
       "4   2000  \n",
       "6   3000  "
      ]
     },
     "execution_count": 19,
     "metadata": {},
     "output_type": "execute_result"
    }
   ],
   "source": [
    "df_player.head(3)"
   ]
  },
  {
   "cell_type": "code",
   "execution_count": 20,
   "metadata": {},
   "outputs": [
    {
     "name": "stdout",
     "output_type": "stream",
     "text": [
      "(38, 1)\n",
      "(38, 1)\n"
     ]
    },
    {
     "data": {
      "text/plain": [
       "LinearRegression()"
      ]
     },
     "execution_count": 20,
     "metadata": {},
     "output_type": "execute_result"
    }
   ],
   "source": [
    "player_regression = LinearRegression()\n",
    "X = np.array(df_player[\"count\"]).reshape(-1,1)\n",
    "y = np.array(df_player[\"timestampDT\"]).reshape(-1,1)\n",
    "print(X.shape)\n",
    "print(y.shape)\n",
    "\n",
    "player_regression.fit(X, y)"
   ]
  },
  {
   "cell_type": "code",
   "execution_count": 21,
   "metadata": {},
   "outputs": [
    {
     "data": {
      "text/plain": [
       "Text(0.5, 0, 'time')"
      ]
     },
     "execution_count": 21,
     "metadata": {},
     "output_type": "execute_result"
    },
    {
     "data": {
      "image/png": "[encoded data removed]",
      "text/plain": [
       "<Figure size 792x576 with 1 Axes>"
      ]
     },
     "metadata": {
      "needs_background": "light"
     },
     "output_type": "display_data"
    }
   ],
   "source": [
    "fig, ax = plt.subplots(figsize=(11, 8))\n",
    "ax.plot(df_player[\"timestampDT\"], df_player[\"count\"], label=\"players processed\")\n",
    "ax.plot(df_cache[\"timestampDT\"], df_cache[\"count\"], label=\"cache hits\")\n",
    "ax.legend()\n",
    "ax.set_ylabel(\"count\")\n",
    "ax.set_xlabel(\"time\")"
   ]
  },
  {
   "cell_type": "code",
   "execution_count": 22,
   "metadata": {},
   "outputs": [],
   "source": [
    "pred_x = np.arange(0, 200000, 500).reshape(-1, 1)\n",
    "pred_y = player_regression.predict(pred_x)\n",
    "pred_y = [pred_y[i][0] for i in range(len(pred_y))]\n",
    "pred_y = pd.to_datetime(pred_y)"
   ]
  },
  {
   "cell_type": "code",
   "execution_count": 24,
   "metadata": {},
   "outputs": [
    {
     "data": {
      "text/plain": [
       "Text(0.5, 0, 'time')"
      ]
     },
     "execution_count": 24,
     "metadata": {},
     "output_type": "execute_result"
    },
    {
     "data": {
      "image/png": "[encoded data removed]",
      "text/plain": [
       "<Figure size 792x576 with 1 Axes>"
      ]
     },
     "metadata": {
      "needs_background": "light"
     },
     "output_type": "display_data"
    }
   ],
   "source": [
    "fig, ax = plt.subplots(figsize=(11, 8))\n",
    "ax.plot(df_player[\"timestampDT\"], df_player[\"count\"], label=\"players processed (cache miss)\")\n",
    "ax.plot(df_cache[\"timestampDT\"], df_cache[\"count\"], label=\"cache hits\")\n",
    "ax.plot(pred_y, pred_x, label=\"forecast of players processed\", linestyle=\"--\")\n",
    "ax.legend()\n",
    "ax.set_ylabel(\"count\")\n",
    "ax.set_xlabel(\"time\")"
   ]
  },
  {
   "cell_type": "code",
   "execution_count": null,
   "metadata": {},
   "outputs": [],
   "source": []
  }
 ],
 "metadata": {
  "kernelspec": {
   "display_name": "Python 3",
   "language": "python",
   "name": "python3"
  },
  "language_info": {
   "codemirror_mode": {
    "name": "ipython",
    "version": 3
   },
   "file_extension": ".py",
   "mimetype": "text/x-python",
   "name": "python",
   "nbconvert_exporter": "python",
   "pygments_lexer": "ipython3",
   "version": "3.7.7"
  }
 },
 "nbformat": 4,
 "nbformat_minor": 4
}
